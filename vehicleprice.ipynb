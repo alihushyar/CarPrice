{
 "cells": [
  {
   "cell_type": "markdown",
   "metadata": {},
   "source": [
    "## Download the Data"
   ]
  },
  {
   "cell_type": "code",
   "execution_count": 5,
   "metadata": {},
   "outputs": [],
   "source": [
    "import pandas as pd\n",
    "import seaborn as sns\n",
    "import numpy as np\n",
    "import matplotlib.pyplot as plt\n",
    "%matplotlib inline\n",
    "\n",
    "df = pd.read_csv('datasets/vehicles.csv', index_col=0)"
   ]
  },
  {
   "cell_type": "markdown",
   "metadata": {},
   "source": [
    "## Inspect Data"
   ]
  },
  {
   "cell_type": "code",
   "execution_count": 7,
   "metadata": {},
   "outputs": [
    {
     "data": {
      "text/html": [
       "<div>\n",
       "<style scoped>\n",
       "    .dataframe tbody tr th:only-of-type {\n",
       "        vertical-align: middle;\n",
       "    }\n",
       "\n",
       "    .dataframe tbody tr th {\n",
       "        vertical-align: top;\n",
       "    }\n",
       "\n",
       "    .dataframe thead th {\n",
       "        text-align: right;\n",
       "    }\n",
       "</style>\n",
       "<table border=\"1\" class=\"dataframe\">\n",
       "  <thead>\n",
       "    <tr style=\"text-align: right;\">\n",
       "      <th></th>\n",
       "      <th>region</th>\n",
       "      <th>price</th>\n",
       "      <th>year</th>\n",
       "      <th>manufacturer</th>\n",
       "      <th>model</th>\n",
       "      <th>condition</th>\n",
       "      <th>cylinders</th>\n",
       "      <th>fuel</th>\n",
       "      <th>odometer</th>\n",
       "      <th>title_status</th>\n",
       "      <th>transmission</th>\n",
       "      <th>VIN</th>\n",
       "      <th>drive</th>\n",
       "      <th>size</th>\n",
       "      <th>type</th>\n",
       "      <th>paint_color</th>\n",
       "      <th>state</th>\n",
       "    </tr>\n",
       "    <tr>\n",
       "      <th>id</th>\n",
       "      <th></th>\n",
       "      <th></th>\n",
       "      <th></th>\n",
       "      <th></th>\n",
       "      <th></th>\n",
       "      <th></th>\n",
       "      <th></th>\n",
       "      <th></th>\n",
       "      <th></th>\n",
       "      <th></th>\n",
       "      <th></th>\n",
       "      <th></th>\n",
       "      <th></th>\n",
       "      <th></th>\n",
       "      <th></th>\n",
       "      <th></th>\n",
       "      <th></th>\n",
       "    </tr>\n",
       "  </thead>\n",
       "  <tbody>\n",
       "    <tr>\n",
       "      <th>7222695916</th>\n",
       "      <td>prescott</td>\n",
       "      <td>6000</td>\n",
       "      <td>NaN</td>\n",
       "      <td>NaN</td>\n",
       "      <td>NaN</td>\n",
       "      <td>NaN</td>\n",
       "      <td>NaN</td>\n",
       "      <td>NaN</td>\n",
       "      <td>NaN</td>\n",
       "      <td>NaN</td>\n",
       "      <td>NaN</td>\n",
       "      <td>NaN</td>\n",
       "      <td>NaN</td>\n",
       "      <td>NaN</td>\n",
       "      <td>NaN</td>\n",
       "      <td>NaN</td>\n",
       "      <td>az</td>\n",
       "    </tr>\n",
       "    <tr>\n",
       "      <th>7218891961</th>\n",
       "      <td>fayetteville</td>\n",
       "      <td>11900</td>\n",
       "      <td>NaN</td>\n",
       "      <td>NaN</td>\n",
       "      <td>NaN</td>\n",
       "      <td>NaN</td>\n",
       "      <td>NaN</td>\n",
       "      <td>NaN</td>\n",
       "      <td>NaN</td>\n",
       "      <td>NaN</td>\n",
       "      <td>NaN</td>\n",
       "      <td>NaN</td>\n",
       "      <td>NaN</td>\n",
       "      <td>NaN</td>\n",
       "      <td>NaN</td>\n",
       "      <td>NaN</td>\n",
       "      <td>ar</td>\n",
       "    </tr>\n",
       "    <tr>\n",
       "      <th>7221797935</th>\n",
       "      <td>florida keys</td>\n",
       "      <td>21000</td>\n",
       "      <td>NaN</td>\n",
       "      <td>NaN</td>\n",
       "      <td>NaN</td>\n",
       "      <td>NaN</td>\n",
       "      <td>NaN</td>\n",
       "      <td>NaN</td>\n",
       "      <td>NaN</td>\n",
       "      <td>NaN</td>\n",
       "      <td>NaN</td>\n",
       "      <td>NaN</td>\n",
       "      <td>NaN</td>\n",
       "      <td>NaN</td>\n",
       "      <td>NaN</td>\n",
       "      <td>NaN</td>\n",
       "      <td>fl</td>\n",
       "    </tr>\n",
       "    <tr>\n",
       "      <th>7222270760</th>\n",
       "      <td>worcester / central MA</td>\n",
       "      <td>1500</td>\n",
       "      <td>NaN</td>\n",
       "      <td>NaN</td>\n",
       "      <td>NaN</td>\n",
       "      <td>NaN</td>\n",
       "      <td>NaN</td>\n",
       "      <td>NaN</td>\n",
       "      <td>NaN</td>\n",
       "      <td>NaN</td>\n",
       "      <td>NaN</td>\n",
       "      <td>NaN</td>\n",
       "      <td>NaN</td>\n",
       "      <td>NaN</td>\n",
       "      <td>NaN</td>\n",
       "      <td>NaN</td>\n",
       "      <td>ma</td>\n",
       "    </tr>\n",
       "    <tr>\n",
       "      <th>7210384030</th>\n",
       "      <td>greensboro</td>\n",
       "      <td>4900</td>\n",
       "      <td>NaN</td>\n",
       "      <td>NaN</td>\n",
       "      <td>NaN</td>\n",
       "      <td>NaN</td>\n",
       "      <td>NaN</td>\n",
       "      <td>NaN</td>\n",
       "      <td>NaN</td>\n",
       "      <td>NaN</td>\n",
       "      <td>NaN</td>\n",
       "      <td>NaN</td>\n",
       "      <td>NaN</td>\n",
       "      <td>NaN</td>\n",
       "      <td>NaN</td>\n",
       "      <td>NaN</td>\n",
       "      <td>nc</td>\n",
       "    </tr>\n",
       "  </tbody>\n",
       "</table>\n",
       "</div>"
      ],
      "text/plain": [
       "                            region  price  year manufacturer model condition  \\\n",
       "id                                                                             \n",
       "7222695916                prescott   6000   NaN          NaN   NaN       NaN   \n",
       "7218891961            fayetteville  11900   NaN          NaN   NaN       NaN   \n",
       "7221797935            florida keys  21000   NaN          NaN   NaN       NaN   \n",
       "7222270760  worcester / central MA   1500   NaN          NaN   NaN       NaN   \n",
       "7210384030              greensboro   4900   NaN          NaN   NaN       NaN   \n",
       "\n",
       "           cylinders fuel  odometer title_status transmission  VIN drive size  \\\n",
       "id                                                                              \n",
       "7222695916       NaN  NaN       NaN          NaN          NaN  NaN   NaN  NaN   \n",
       "7218891961       NaN  NaN       NaN          NaN          NaN  NaN   NaN  NaN   \n",
       "7221797935       NaN  NaN       NaN          NaN          NaN  NaN   NaN  NaN   \n",
       "7222270760       NaN  NaN       NaN          NaN          NaN  NaN   NaN  NaN   \n",
       "7210384030       NaN  NaN       NaN          NaN          NaN  NaN   NaN  NaN   \n",
       "\n",
       "           type paint_color state  \n",
       "id                                 \n",
       "7222695916  NaN         NaN    az  \n",
       "7218891961  NaN         NaN    ar  \n",
       "7221797935  NaN         NaN    fl  \n",
       "7222270760  NaN         NaN    ma  \n",
       "7210384030  NaN         NaN    nc  "
      ]
     },
     "execution_count": 7,
     "metadata": {},
     "output_type": "execute_result"
    }
   ],
   "source": [
    "df.head()"
   ]
  },
  {
   "cell_type": "code",
   "execution_count": 8,
   "metadata": {},
   "outputs": [
    {
     "name": "stdout",
     "output_type": "stream",
     "text": [
      "<class 'pandas.core.frame.DataFrame'>\n",
      "Index: 426880 entries, 7222695916 to 7301591129\n",
      "Data columns (total 17 columns):\n",
      " #   Column        Non-Null Count   Dtype  \n",
      "---  ------        --------------   -----  \n",
      " 0   region        426880 non-null  object \n",
      " 1   price         426880 non-null  int64  \n",
      " 2   year          425675 non-null  float64\n",
      " 3   manufacturer  409234 non-null  object \n",
      " 4   model         421603 non-null  object \n",
      " 5   condition     252776 non-null  object \n",
      " 6   cylinders     249202 non-null  object \n",
      " 7   fuel          423867 non-null  object \n",
      " 8   odometer      422480 non-null  float64\n",
      " 9   title_status  418638 non-null  object \n",
      " 10  transmission  424324 non-null  object \n",
      " 11  VIN           265838 non-null  object \n",
      " 12  drive         296313 non-null  object \n",
      " 13  size          120519 non-null  object \n",
      " 14  type          334022 non-null  object \n",
      " 15  paint_color   296677 non-null  object \n",
      " 16  state         426880 non-null  object \n",
      "dtypes: float64(2), int64(1), object(14)\n",
      "memory usage: 58.6+ MB\n"
     ]
    }
   ],
   "source": [
    "df.info()"
   ]
  },
  {
   "cell_type": "code",
   "execution_count": 9,
   "metadata": {},
   "outputs": [
    {
     "data": {
      "text/html": [
       "<div>\n",
       "<style scoped>\n",
       "    .dataframe tbody tr th:only-of-type {\n",
       "        vertical-align: middle;\n",
       "    }\n",
       "\n",
       "    .dataframe tbody tr th {\n",
       "        vertical-align: top;\n",
       "    }\n",
       "\n",
       "    .dataframe thead th {\n",
       "        text-align: right;\n",
       "    }\n",
       "</style>\n",
       "<table border=\"1\" class=\"dataframe\">\n",
       "  <thead>\n",
       "    <tr style=\"text-align: right;\">\n",
       "      <th></th>\n",
       "      <th>price</th>\n",
       "      <th>year</th>\n",
       "      <th>odometer</th>\n",
       "    </tr>\n",
       "  </thead>\n",
       "  <tbody>\n",
       "    <tr>\n",
       "      <th>count</th>\n",
       "      <td>4.268800e+05</td>\n",
       "      <td>425675.000000</td>\n",
       "      <td>4.224800e+05</td>\n",
       "    </tr>\n",
       "    <tr>\n",
       "      <th>mean</th>\n",
       "      <td>7.519903e+04</td>\n",
       "      <td>2011.235191</td>\n",
       "      <td>9.804333e+04</td>\n",
       "    </tr>\n",
       "    <tr>\n",
       "      <th>std</th>\n",
       "      <td>1.218228e+07</td>\n",
       "      <td>9.452120</td>\n",
       "      <td>2.138815e+05</td>\n",
       "    </tr>\n",
       "    <tr>\n",
       "      <th>min</th>\n",
       "      <td>0.000000e+00</td>\n",
       "      <td>1900.000000</td>\n",
       "      <td>0.000000e+00</td>\n",
       "    </tr>\n",
       "    <tr>\n",
       "      <th>25%</th>\n",
       "      <td>5.900000e+03</td>\n",
       "      <td>2008.000000</td>\n",
       "      <td>3.770400e+04</td>\n",
       "    </tr>\n",
       "    <tr>\n",
       "      <th>50%</th>\n",
       "      <td>1.395000e+04</td>\n",
       "      <td>2013.000000</td>\n",
       "      <td>8.554800e+04</td>\n",
       "    </tr>\n",
       "    <tr>\n",
       "      <th>75%</th>\n",
       "      <td>2.648575e+04</td>\n",
       "      <td>2017.000000</td>\n",
       "      <td>1.335425e+05</td>\n",
       "    </tr>\n",
       "    <tr>\n",
       "      <th>max</th>\n",
       "      <td>3.736929e+09</td>\n",
       "      <td>2022.000000</td>\n",
       "      <td>1.000000e+07</td>\n",
       "    </tr>\n",
       "  </tbody>\n",
       "</table>\n",
       "</div>"
      ],
      "text/plain": [
       "              price           year      odometer\n",
       "count  4.268800e+05  425675.000000  4.224800e+05\n",
       "mean   7.519903e+04    2011.235191  9.804333e+04\n",
       "std    1.218228e+07       9.452120  2.138815e+05\n",
       "min    0.000000e+00    1900.000000  0.000000e+00\n",
       "25%    5.900000e+03    2008.000000  3.770400e+04\n",
       "50%    1.395000e+04    2013.000000  8.554800e+04\n",
       "75%    2.648575e+04    2017.000000  1.335425e+05\n",
       "max    3.736929e+09    2022.000000  1.000000e+07"
      ]
     },
     "execution_count": 9,
     "metadata": {},
     "output_type": "execute_result"
    }
   ],
   "source": [
    "df.describe()"
   ]
  },
  {
   "cell_type": "code",
   "execution_count": 10,
   "metadata": {},
   "outputs": [
    {
     "name": "stdout",
     "output_type": "stream",
     "text": [
      "<class 'pandas.core.frame.DataFrame'>\n",
      "Index: 393985 entries, 7222695916 to 7301591129\n",
      "Data columns (total 17 columns):\n",
      " #   Column        Non-Null Count   Dtype  \n",
      "---  ------        --------------   -----  \n",
      " 0   region        393985 non-null  object \n",
      " 1   price         393985 non-null  int64  \n",
      " 2   year          392812 non-null  float64\n",
      " 3   manufacturer  377800 non-null  object \n",
      " 4   model         389284 non-null  object \n",
      " 5   condition     242596 non-null  object \n",
      " 6   cylinders     233575 non-null  object \n",
      " 7   fuel          391391 non-null  object \n",
      " 8   odometer      391695 non-null  float64\n",
      " 9   title_status  386251 non-null  object \n",
      " 10  transmission  392162 non-null  object \n",
      " 11  VIN           241827 non-null  object \n",
      " 12  drive         273731 non-null  object \n",
      " 13  size          111052 non-null  object \n",
      " 14  type          308053 non-null  object \n",
      " 15  paint_color   276836 non-null  object \n",
      " 16  state         393985 non-null  object \n",
      "dtypes: float64(2), int64(1), object(14)\n",
      "memory usage: 54.1+ MB\n"
     ]
    }
   ],
   "source": [
    "# Predicting car prices.  So Remove rows where price == 0\n",
    "df = df[df['price'] != 0]\n",
    "\n",
    "df.info()"
   ]
  },
  {
   "cell_type": "code",
   "execution_count": 11,
   "metadata": {},
   "outputs": [
    {
     "name": "stdout",
     "output_type": "stream",
     "text": [
      "<class 'pandas.core.frame.DataFrame'>\n",
      "Index: 393985 entries, 7222695916 to 7301591129\n",
      "Data columns (total 10 columns):\n",
      " #   Column        Non-Null Count   Dtype  \n",
      "---  ------        --------------   -----  \n",
      " 0   price         393985 non-null  int64  \n",
      " 1   year          392812 non-null  float64\n",
      " 2   manufacturer  377800 non-null  object \n",
      " 3   condition     242596 non-null  object \n",
      " 4   cylinders     233575 non-null  object \n",
      " 5   fuel          391391 non-null  object \n",
      " 6   odometer      391695 non-null  float64\n",
      " 7   title_status  386251 non-null  object \n",
      " 8   transmission  392162 non-null  object \n",
      " 9   type          308053 non-null  object \n",
      "dtypes: float64(2), int64(1), object(7)\n",
      "memory usage: 33.1+ MB\n"
     ]
    }
   ],
   "source": [
    "# Drop columns deemed not useful for modeling, or would complicate model, or have too many missing values\n",
    "df = df.drop(columns=['state', 'region', 'VIN', 'paint_color', 'model', 'size', 'drive'])  \n",
    "df.info()"
   ]
  },
  {
   "cell_type": "code",
   "execution_count": 12,
   "metadata": {},
   "outputs": [
    {
     "name": "stdout",
     "output_type": "stream",
     "text": [
      "<class 'pandas.core.frame.DataFrame'>\n",
      "Index: 143032 entries, 7316814884 to 7301591140\n",
      "Data columns (total 10 columns):\n",
      " #   Column        Non-Null Count   Dtype  \n",
      "---  ------        --------------   -----  \n",
      " 0   price         143032 non-null  int64  \n",
      " 1   year          143032 non-null  float64\n",
      " 2   manufacturer  143032 non-null  object \n",
      " 3   condition     143032 non-null  object \n",
      " 4   cylinders     143032 non-null  object \n",
      " 5   fuel          143032 non-null  object \n",
      " 6   odometer      143032 non-null  float64\n",
      " 7   title_status  143032 non-null  object \n",
      " 8   transmission  143032 non-null  object \n",
      " 9   type          143032 non-null  object \n",
      "dtypes: float64(2), int64(1), object(7)\n",
      "memory usage: 12.0+ MB\n"
     ]
    }
   ],
   "source": [
    "# Drop rows that are missing any of the key column values\n",
    "df.dropna(inplace=True)\n",
    "df.info()"
   ]
  },
  {
   "cell_type": "code",
   "execution_count": 13,
   "metadata": {},
   "outputs": [
    {
     "data": {
      "text/html": [
       "<div>\n",
       "<style scoped>\n",
       "    .dataframe tbody tr th:only-of-type {\n",
       "        vertical-align: middle;\n",
       "    }\n",
       "\n",
       "    .dataframe tbody tr th {\n",
       "        vertical-align: top;\n",
       "    }\n",
       "\n",
       "    .dataframe thead th {\n",
       "        text-align: right;\n",
       "    }\n",
       "</style>\n",
       "<table border=\"1\" class=\"dataframe\">\n",
       "  <thead>\n",
       "    <tr style=\"text-align: right;\">\n",
       "      <th></th>\n",
       "      <th>price</th>\n",
       "      <th>year</th>\n",
       "      <th>manufacturer</th>\n",
       "      <th>condition</th>\n",
       "      <th>cylinders</th>\n",
       "      <th>fuel</th>\n",
       "      <th>odometer</th>\n",
       "      <th>title_status</th>\n",
       "      <th>transmission</th>\n",
       "      <th>type</th>\n",
       "    </tr>\n",
       "    <tr>\n",
       "      <th>id</th>\n",
       "      <th></th>\n",
       "      <th></th>\n",
       "      <th></th>\n",
       "      <th></th>\n",
       "      <th></th>\n",
       "      <th></th>\n",
       "      <th></th>\n",
       "      <th></th>\n",
       "      <th></th>\n",
       "      <th></th>\n",
       "    </tr>\n",
       "  </thead>\n",
       "  <tbody>\n",
       "    <tr>\n",
       "      <th>7316814884</th>\n",
       "      <td>33590</td>\n",
       "      <td>2014.0</td>\n",
       "      <td>gmc</td>\n",
       "      <td>good</td>\n",
       "      <td>8 cylinders</td>\n",
       "      <td>gas</td>\n",
       "      <td>57923.0</td>\n",
       "      <td>clean</td>\n",
       "      <td>other</td>\n",
       "      <td>pickup</td>\n",
       "    </tr>\n",
       "    <tr>\n",
       "      <th>7316814758</th>\n",
       "      <td>22590</td>\n",
       "      <td>2010.0</td>\n",
       "      <td>chevrolet</td>\n",
       "      <td>good</td>\n",
       "      <td>8 cylinders</td>\n",
       "      <td>gas</td>\n",
       "      <td>71229.0</td>\n",
       "      <td>clean</td>\n",
       "      <td>other</td>\n",
       "      <td>pickup</td>\n",
       "    </tr>\n",
       "    <tr>\n",
       "      <th>7316814989</th>\n",
       "      <td>39590</td>\n",
       "      <td>2020.0</td>\n",
       "      <td>chevrolet</td>\n",
       "      <td>good</td>\n",
       "      <td>8 cylinders</td>\n",
       "      <td>gas</td>\n",
       "      <td>19160.0</td>\n",
       "      <td>clean</td>\n",
       "      <td>other</td>\n",
       "      <td>pickup</td>\n",
       "    </tr>\n",
       "    <tr>\n",
       "      <th>7316743432</th>\n",
       "      <td>30990</td>\n",
       "      <td>2017.0</td>\n",
       "      <td>toyota</td>\n",
       "      <td>good</td>\n",
       "      <td>8 cylinders</td>\n",
       "      <td>gas</td>\n",
       "      <td>41124.0</td>\n",
       "      <td>clean</td>\n",
       "      <td>other</td>\n",
       "      <td>pickup</td>\n",
       "    </tr>\n",
       "    <tr>\n",
       "      <th>7316356412</th>\n",
       "      <td>15000</td>\n",
       "      <td>2013.0</td>\n",
       "      <td>ford</td>\n",
       "      <td>excellent</td>\n",
       "      <td>6 cylinders</td>\n",
       "      <td>gas</td>\n",
       "      <td>128000.0</td>\n",
       "      <td>clean</td>\n",
       "      <td>automatic</td>\n",
       "      <td>truck</td>\n",
       "    </tr>\n",
       "  </tbody>\n",
       "</table>\n",
       "</div>"
      ],
      "text/plain": [
       "            price    year manufacturer  condition    cylinders fuel  odometer  \\\n",
       "id                                                                              \n",
       "7316814884  33590  2014.0          gmc       good  8 cylinders  gas   57923.0   \n",
       "7316814758  22590  2010.0    chevrolet       good  8 cylinders  gas   71229.0   \n",
       "7316814989  39590  2020.0    chevrolet       good  8 cylinders  gas   19160.0   \n",
       "7316743432  30990  2017.0       toyota       good  8 cylinders  gas   41124.0   \n",
       "7316356412  15000  2013.0         ford  excellent  6 cylinders  gas  128000.0   \n",
       "\n",
       "           title_status transmission    type  \n",
       "id                                            \n",
       "7316814884        clean        other  pickup  \n",
       "7316814758        clean        other  pickup  \n",
       "7316814989        clean        other  pickup  \n",
       "7316743432        clean        other  pickup  \n",
       "7316356412        clean    automatic   truck  "
      ]
     },
     "execution_count": 13,
     "metadata": {},
     "output_type": "execute_result"
    }
   ],
   "source": [
    "df.head()"
   ]
  },
  {
   "cell_type": "code",
   "execution_count": 14,
   "metadata": {},
   "outputs": [
    {
     "data": {
      "text/html": [
       "<div>\n",
       "<style scoped>\n",
       "    .dataframe tbody tr th:only-of-type {\n",
       "        vertical-align: middle;\n",
       "    }\n",
       "\n",
       "    .dataframe tbody tr th {\n",
       "        vertical-align: top;\n",
       "    }\n",
       "\n",
       "    .dataframe thead th {\n",
       "        text-align: right;\n",
       "    }\n",
       "</style>\n",
       "<table border=\"1\" class=\"dataframe\">\n",
       "  <thead>\n",
       "    <tr style=\"text-align: right;\">\n",
       "      <th></th>\n",
       "      <th>price</th>\n",
       "      <th>odometer</th>\n",
       "      <th>age</th>\n",
       "    </tr>\n",
       "  </thead>\n",
       "  <tbody>\n",
       "    <tr>\n",
       "      <th>count</th>\n",
       "      <td>1.430320e+05</td>\n",
       "      <td>1.430320e+05</td>\n",
       "      <td>143032.000000</td>\n",
       "    </tr>\n",
       "    <tr>\n",
       "      <th>mean</th>\n",
       "      <td>5.432847e+04</td>\n",
       "      <td>1.058421e+05</td>\n",
       "      <td>12.137270</td>\n",
       "    </tr>\n",
       "    <tr>\n",
       "      <th>std</th>\n",
       "      <td>1.032529e+07</td>\n",
       "      <td>1.997960e+05</td>\n",
       "      <td>9.766296</td>\n",
       "    </tr>\n",
       "    <tr>\n",
       "      <th>min</th>\n",
       "      <td>1.000000e+00</td>\n",
       "      <td>0.000000e+00</td>\n",
       "      <td>0.000000</td>\n",
       "    </tr>\n",
       "    <tr>\n",
       "      <th>25%</th>\n",
       "      <td>6.500000e+03</td>\n",
       "      <td>4.600000e+04</td>\n",
       "      <td>6.000000</td>\n",
       "    </tr>\n",
       "    <tr>\n",
       "      <th>50%</th>\n",
       "      <td>1.290000e+04</td>\n",
       "      <td>9.700000e+04</td>\n",
       "      <td>10.000000</td>\n",
       "    </tr>\n",
       "    <tr>\n",
       "      <th>75%</th>\n",
       "      <td>2.599000e+04</td>\n",
       "      <td>1.438690e+05</td>\n",
       "      <td>15.000000</td>\n",
       "    </tr>\n",
       "    <tr>\n",
       "      <th>max</th>\n",
       "      <td>3.736929e+09</td>\n",
       "      <td>1.000000e+07</td>\n",
       "      <td>122.000000</td>\n",
       "    </tr>\n",
       "  </tbody>\n",
       "</table>\n",
       "</div>"
      ],
      "text/plain": [
       "              price      odometer            age\n",
       "count  1.430320e+05  1.430320e+05  143032.000000\n",
       "mean   5.432847e+04  1.058421e+05      12.137270\n",
       "std    1.032529e+07  1.997960e+05       9.766296\n",
       "min    1.000000e+00  0.000000e+00       0.000000\n",
       "25%    6.500000e+03  4.600000e+04       6.000000\n",
       "50%    1.290000e+04  9.700000e+04      10.000000\n",
       "75%    2.599000e+04  1.438690e+05      15.000000\n",
       "max    3.736929e+09  1.000000e+07     122.000000"
      ]
     },
     "execution_count": 14,
     "metadata": {},
     "output_type": "execute_result"
    }
   ],
   "source": [
    "# Convert year to age using the latest year as current value\n",
    "max_year = df['year'].max()\n",
    "df['age'] = max_year - df['year']\n",
    "df = df.drop(columns=['year'])\n",
    "df.describe()"
   ]
  },
  {
   "cell_type": "code",
   "execution_count": 15,
   "metadata": {},
   "outputs": [
    {
     "data": {
      "text/plain": [
       "title_status\n",
       "clean         136121\n",
       "rebuilt         3927\n",
       "salvage         1693\n",
       "lien             941\n",
       "missing          281\n",
       "parts only        69\n",
       "Name: count, dtype: int64"
      ]
     },
     "execution_count": 15,
     "metadata": {},
     "output_type": "execute_result"
    }
   ],
   "source": [
    "df['title_status'].value_counts()"
   ]
  },
  {
   "cell_type": "code",
   "execution_count": 16,
   "metadata": {},
   "outputs": [
    {
     "name": "stdout",
     "output_type": "stream",
     "text": [
      "<class 'pandas.core.frame.DataFrame'>\n",
      "Index: 136121 entries, 7316814884 to 7301591140\n",
      "Data columns (total 9 columns):\n",
      " #   Column        Non-Null Count   Dtype  \n",
      "---  ------        --------------   -----  \n",
      " 0   price         136121 non-null  int64  \n",
      " 1   manufacturer  136121 non-null  object \n",
      " 2   condition     136121 non-null  object \n",
      " 3   cylinders     136121 non-null  object \n",
      " 4   fuel          136121 non-null  object \n",
      " 5   odometer      136121 non-null  float64\n",
      " 6   transmission  136121 non-null  object \n",
      " 7   type          136121 non-null  object \n",
      " 8   age           136121 non-null  float64\n",
      "dtypes: float64(2), int64(1), object(6)\n",
      "memory usage: 10.4+ MB\n"
     ]
    }
   ],
   "source": [
    "# Since vast majority of cars have clean titles, we will filter on rows where title_status == clean\n",
    "df = df[df['title_status'] == 'clean']\n",
    "df = df.drop('title_status', axis = 1)\n",
    "df.info()"
   ]
  },
  {
   "cell_type": "code",
   "execution_count": 17,
   "metadata": {},
   "outputs": [
    {
     "data": {
      "text/plain": [
       "condition\n",
       "good         61922\n",
       "excellent    56301\n",
       "like new     13203\n",
       "fair          4017\n",
       "new            538\n",
       "salvage        140\n",
       "Name: count, dtype: int64"
      ]
     },
     "execution_count": 17,
     "metadata": {},
     "output_type": "execute_result"
    }
   ],
   "source": [
    "df['condition'].value_counts()"
   ]
  },
  {
   "cell_type": "code",
   "execution_count": 18,
   "metadata": {},
   "outputs": [
    {
     "data": {
      "text/plain": [
       "condition\n",
       "good         61922\n",
       "excellent    56301\n",
       "like new     13741\n",
       "fair          4017\n",
       "Name: count, dtype: int64"
      ]
     },
     "execution_count": 18,
     "metadata": {},
     "output_type": "execute_result"
    }
   ],
   "source": [
    "# To simplify modeling, combine \"new\" and \"like new\" conditions and remove \"salvage\" category\n",
    "# Later we will use ordinal encoder for the remaining 4 condition categories\n",
    "df['condition'] = df['condition'].replace(\"new\", \"like new\")\n",
    "df = df[df['condition'] != 'salvage']\n",
    "df['condition'].value_counts()"
   ]
  },
  {
   "cell_type": "code",
   "execution_count": 19,
   "metadata": {},
   "outputs": [],
   "source": [
    "# Define ordinal mapping for condition\n",
    "#condition_mapping = {'like new': 4, 'excellent': 3, 'good': 2, 'fair': 1}\n",
    "#df['condition_encoded'] = df['condition'].map(condition_mapping)\n",
    "#df = df.drop(columns=['condition'])\n",
    "#df.head(10)"
   ]
  },
  {
   "cell_type": "code",
   "execution_count": 20,
   "metadata": {},
   "outputs": [
    {
     "data": {
      "text/plain": [
       "cylinders\n",
       "6 cylinders     55173\n",
       "8 cylinders     40217\n",
       "4 cylinders     38037\n",
       "5 cylinders       948\n",
       "10 cylinders      905\n",
       "other             367\n",
       "3 cylinders       263\n",
       "12 cylinders       71\n",
       "Name: count, dtype: int64"
      ]
     },
     "execution_count": 20,
     "metadata": {},
     "output_type": "execute_result"
    }
   ],
   "source": [
    "df['cylinders'].value_counts()"
   ]
  },
  {
   "cell_type": "code",
   "execution_count": 21,
   "metadata": {},
   "outputs": [
    {
     "data": {
      "text/html": [
       "<div>\n",
       "<style scoped>\n",
       "    .dataframe tbody tr th:only-of-type {\n",
       "        vertical-align: middle;\n",
       "    }\n",
       "\n",
       "    .dataframe tbody tr th {\n",
       "        vertical-align: top;\n",
       "    }\n",
       "\n",
       "    .dataframe thead th {\n",
       "        text-align: right;\n",
       "    }\n",
       "</style>\n",
       "<table border=\"1\" class=\"dataframe\">\n",
       "  <thead>\n",
       "    <tr style=\"text-align: right;\">\n",
       "      <th></th>\n",
       "      <th>price</th>\n",
       "      <th>manufacturer</th>\n",
       "      <th>condition</th>\n",
       "      <th>cylinders</th>\n",
       "      <th>fuel</th>\n",
       "      <th>odometer</th>\n",
       "      <th>transmission</th>\n",
       "      <th>type</th>\n",
       "      <th>age</th>\n",
       "    </tr>\n",
       "    <tr>\n",
       "      <th>id</th>\n",
       "      <th></th>\n",
       "      <th></th>\n",
       "      <th></th>\n",
       "      <th></th>\n",
       "      <th></th>\n",
       "      <th></th>\n",
       "      <th></th>\n",
       "      <th></th>\n",
       "      <th></th>\n",
       "    </tr>\n",
       "  </thead>\n",
       "  <tbody>\n",
       "    <tr>\n",
       "      <th>7316814884</th>\n",
       "      <td>33590</td>\n",
       "      <td>gmc</td>\n",
       "      <td>good</td>\n",
       "      <td>8</td>\n",
       "      <td>gas</td>\n",
       "      <td>57923.0</td>\n",
       "      <td>other</td>\n",
       "      <td>pickup</td>\n",
       "      <td>8.0</td>\n",
       "    </tr>\n",
       "    <tr>\n",
       "      <th>7316814758</th>\n",
       "      <td>22590</td>\n",
       "      <td>chevrolet</td>\n",
       "      <td>good</td>\n",
       "      <td>8</td>\n",
       "      <td>gas</td>\n",
       "      <td>71229.0</td>\n",
       "      <td>other</td>\n",
       "      <td>pickup</td>\n",
       "      <td>12.0</td>\n",
       "    </tr>\n",
       "    <tr>\n",
       "      <th>7316814989</th>\n",
       "      <td>39590</td>\n",
       "      <td>chevrolet</td>\n",
       "      <td>good</td>\n",
       "      <td>8</td>\n",
       "      <td>gas</td>\n",
       "      <td>19160.0</td>\n",
       "      <td>other</td>\n",
       "      <td>pickup</td>\n",
       "      <td>2.0</td>\n",
       "    </tr>\n",
       "    <tr>\n",
       "      <th>7316743432</th>\n",
       "      <td>30990</td>\n",
       "      <td>toyota</td>\n",
       "      <td>good</td>\n",
       "      <td>8</td>\n",
       "      <td>gas</td>\n",
       "      <td>41124.0</td>\n",
       "      <td>other</td>\n",
       "      <td>pickup</td>\n",
       "      <td>5.0</td>\n",
       "    </tr>\n",
       "    <tr>\n",
       "      <th>7316356412</th>\n",
       "      <td>15000</td>\n",
       "      <td>ford</td>\n",
       "      <td>excellent</td>\n",
       "      <td>6</td>\n",
       "      <td>gas</td>\n",
       "      <td>128000.0</td>\n",
       "      <td>automatic</td>\n",
       "      <td>truck</td>\n",
       "      <td>9.0</td>\n",
       "    </tr>\n",
       "    <tr>\n",
       "      <th>7316343444</th>\n",
       "      <td>27990</td>\n",
       "      <td>gmc</td>\n",
       "      <td>good</td>\n",
       "      <td>8</td>\n",
       "      <td>gas</td>\n",
       "      <td>68696.0</td>\n",
       "      <td>other</td>\n",
       "      <td>pickup</td>\n",
       "      <td>10.0</td>\n",
       "    </tr>\n",
       "    <tr>\n",
       "      <th>7316304717</th>\n",
       "      <td>34590</td>\n",
       "      <td>chevrolet</td>\n",
       "      <td>good</td>\n",
       "      <td>6</td>\n",
       "      <td>gas</td>\n",
       "      <td>29499.0</td>\n",
       "      <td>other</td>\n",
       "      <td>pickup</td>\n",
       "      <td>6.0</td>\n",
       "    </tr>\n",
       "    <tr>\n",
       "      <th>7316285779</th>\n",
       "      <td>35000</td>\n",
       "      <td>toyota</td>\n",
       "      <td>excellent</td>\n",
       "      <td>6</td>\n",
       "      <td>gas</td>\n",
       "      <td>43000.0</td>\n",
       "      <td>automatic</td>\n",
       "      <td>truck</td>\n",
       "      <td>3.0</td>\n",
       "    </tr>\n",
       "    <tr>\n",
       "      <th>7316257769</th>\n",
       "      <td>29990</td>\n",
       "      <td>chevrolet</td>\n",
       "      <td>good</td>\n",
       "      <td>6</td>\n",
       "      <td>gas</td>\n",
       "      <td>17302.0</td>\n",
       "      <td>other</td>\n",
       "      <td>pickup</td>\n",
       "      <td>6.0</td>\n",
       "    </tr>\n",
       "    <tr>\n",
       "      <th>7316133914</th>\n",
       "      <td>38590</td>\n",
       "      <td>chevrolet</td>\n",
       "      <td>good</td>\n",
       "      <td>8</td>\n",
       "      <td>gas</td>\n",
       "      <td>30237.0</td>\n",
       "      <td>other</td>\n",
       "      <td>other</td>\n",
       "      <td>11.0</td>\n",
       "    </tr>\n",
       "  </tbody>\n",
       "</table>\n",
       "</div>"
      ],
      "text/plain": [
       "            price manufacturer  condition  cylinders fuel  odometer  \\\n",
       "id                                                                    \n",
       "7316814884  33590          gmc       good          8  gas   57923.0   \n",
       "7316814758  22590    chevrolet       good          8  gas   71229.0   \n",
       "7316814989  39590    chevrolet       good          8  gas   19160.0   \n",
       "7316743432  30990       toyota       good          8  gas   41124.0   \n",
       "7316356412  15000         ford  excellent          6  gas  128000.0   \n",
       "7316343444  27990          gmc       good          8  gas   68696.0   \n",
       "7316304717  34590    chevrolet       good          6  gas   29499.0   \n",
       "7316285779  35000       toyota  excellent          6  gas   43000.0   \n",
       "7316257769  29990    chevrolet       good          6  gas   17302.0   \n",
       "7316133914  38590    chevrolet       good          8  gas   30237.0   \n",
       "\n",
       "           transmission    type   age  \n",
       "id                                     \n",
       "7316814884        other  pickup   8.0  \n",
       "7316814758        other  pickup  12.0  \n",
       "7316814989        other  pickup   2.0  \n",
       "7316743432        other  pickup   5.0  \n",
       "7316356412    automatic   truck   9.0  \n",
       "7316343444        other  pickup  10.0  \n",
       "7316304717        other  pickup   6.0  \n",
       "7316285779    automatic   truck   3.0  \n",
       "7316257769        other  pickup   6.0  \n",
       "7316133914        other   other  11.0  "
      ]
     },
     "execution_count": 21,
     "metadata": {},
     "output_type": "execute_result"
    }
   ],
   "source": [
    "df = df[df['cylinders'] != 'other']\n",
    "\n",
    "# Extract numeric part and convert to integer\n",
    "df['cylinders'] = df['cylinders'].str.extract(r'(\\d+)').astype(int)\n",
    "df.head(10)"
   ]
  },
  {
   "cell_type": "code",
   "execution_count": 22,
   "metadata": {},
   "outputs": [
    {
     "data": {
      "text/html": [
       "<div>\n",
       "<style scoped>\n",
       "    .dataframe tbody tr th:only-of-type {\n",
       "        vertical-align: middle;\n",
       "    }\n",
       "\n",
       "    .dataframe tbody tr th {\n",
       "        vertical-align: top;\n",
       "    }\n",
       "\n",
       "    .dataframe thead th {\n",
       "        text-align: right;\n",
       "    }\n",
       "</style>\n",
       "<table border=\"1\" class=\"dataframe\">\n",
       "  <thead>\n",
       "    <tr style=\"text-align: right;\">\n",
       "      <th></th>\n",
       "      <th>price</th>\n",
       "      <th>cylinders</th>\n",
       "      <th>odometer</th>\n",
       "      <th>age</th>\n",
       "    </tr>\n",
       "  </thead>\n",
       "  <tbody>\n",
       "    <tr>\n",
       "      <th>count</th>\n",
       "      <td>1.356140e+05</td>\n",
       "      <td>135614.000000</td>\n",
       "      <td>1.356140e+05</td>\n",
       "      <td>135614.000000</td>\n",
       "    </tr>\n",
       "    <tr>\n",
       "      <th>mean</th>\n",
       "      <td>5.645420e+04</td>\n",
       "      <td>6.049176</td>\n",
       "      <td>1.056829e+05</td>\n",
       "      <td>12.140177</td>\n",
       "    </tr>\n",
       "    <tr>\n",
       "      <th>std</th>\n",
       "      <td>1.060382e+07</td>\n",
       "      <td>1.567101</td>\n",
       "      <td>1.915751e+05</td>\n",
       "      <td>9.694034</td>\n",
       "    </tr>\n",
       "    <tr>\n",
       "      <th>min</th>\n",
       "      <td>1.000000e+00</td>\n",
       "      <td>3.000000</td>\n",
       "      <td>0.000000e+00</td>\n",
       "      <td>0.000000</td>\n",
       "    </tr>\n",
       "    <tr>\n",
       "      <th>25%</th>\n",
       "      <td>6.500000e+03</td>\n",
       "      <td>4.000000</td>\n",
       "      <td>4.597900e+04</td>\n",
       "      <td>6.000000</td>\n",
       "    </tr>\n",
       "    <tr>\n",
       "      <th>50%</th>\n",
       "      <td>1.299500e+04</td>\n",
       "      <td>6.000000</td>\n",
       "      <td>9.800000e+04</td>\n",
       "      <td>10.000000</td>\n",
       "    </tr>\n",
       "    <tr>\n",
       "      <th>75%</th>\n",
       "      <td>2.659000e+04</td>\n",
       "      <td>8.000000</td>\n",
       "      <td>1.441225e+05</td>\n",
       "      <td>15.000000</td>\n",
       "    </tr>\n",
       "    <tr>\n",
       "      <th>max</th>\n",
       "      <td>3.736929e+09</td>\n",
       "      <td>12.000000</td>\n",
       "      <td>1.000000e+07</td>\n",
       "      <td>122.000000</td>\n",
       "    </tr>\n",
       "  </tbody>\n",
       "</table>\n",
       "</div>"
      ],
      "text/plain": [
       "              price      cylinders      odometer            age\n",
       "count  1.356140e+05  135614.000000  1.356140e+05  135614.000000\n",
       "mean   5.645420e+04       6.049176  1.056829e+05      12.140177\n",
       "std    1.060382e+07       1.567101  1.915751e+05       9.694034\n",
       "min    1.000000e+00       3.000000  0.000000e+00       0.000000\n",
       "25%    6.500000e+03       4.000000  4.597900e+04       6.000000\n",
       "50%    1.299500e+04       6.000000  9.800000e+04      10.000000\n",
       "75%    2.659000e+04       8.000000  1.441225e+05      15.000000\n",
       "max    3.736929e+09      12.000000  1.000000e+07     122.000000"
      ]
     },
     "execution_count": 22,
     "metadata": {},
     "output_type": "execute_result"
    }
   ],
   "source": [
    "df.describe()"
   ]
  },
  {
   "cell_type": "markdown",
   "metadata": {},
   "source": [
    "## Look at the correlation of numerical predictors and target"
   ]
  },
  {
   "cell_type": "code",
   "execution_count": 24,
   "metadata": {},
   "outputs": [
    {
     "data": {
      "text/plain": [
       "price        1.000000\n",
       "cylinders    0.004929\n",
       "age          0.001351\n",
       "odometer     0.000773\n",
       "Name: price, dtype: float64"
      ]
     },
     "execution_count": 24,
     "metadata": {},
     "output_type": "execute_result"
    }
   ],
   "source": [
    "corr_matrix = df.corr(numeric_only=True)\n",
    "corr_matrix['price'].sort_values(ascending=False)"
   ]
  },
  {
   "cell_type": "code",
   "execution_count": 25,
   "metadata": {},
   "outputs": [
    {
     "data": {
      "text/plain": [
       "<Axes: xlabel='price', ylabel='Count'>"
      ]
     },
     "execution_count": 25,
     "metadata": {},
     "output_type": "execute_result"
    },
    {
     "data": {
      "image/png": "[encoded data removed]",
      "text/plain": [
       "<Figure size 640x480 with 1 Axes>"
      ]
     },
     "metadata": {},
     "output_type": "display_data"
    }
   ],
   "source": [
    "# Correlation is not showing any linear relationship so inspect the distributions via historgrams\n",
    "sns.histplot(df['price'], bins=100, kde=True)"
   ]
  },
  {
   "cell_type": "code",
   "execution_count": 26,
   "metadata": {},
   "outputs": [
    {
     "data": {
      "text/plain": [
       "<Axes: xlabel='odometer', ylabel='Count'>"
      ]
     },
     "execution_count": 26,
     "metadata": {},
     "output_type": "execute_result"
    },
    {
     "data": {
      "image/png": "[encoded data removed]",
      "text/plain": [
       "<Figure size 640x480 with 1 Axes>"
      ]
     },
     "metadata": {},
     "output_type": "display_data"
    }
   ],
   "source": [
    "sns.histplot(df['odometer'], bins=100, kde=True)"
   ]
  },
  {
   "cell_type": "code",
   "execution_count": 27,
   "metadata": {},
   "outputs": [
    {
     "data": {
      "text/plain": [
       "<Axes: xlabel='age', ylabel='Count'>"
      ]
     },
     "execution_count": 27,
     "metadata": {},
     "output_type": "execute_result"
    },
    {
     "data": {
      "image/png": "[encoded data removed]",
      "text/plain": [
       "<Figure size 640x480 with 1 Axes>"
      ]
     },
     "metadata": {},
     "output_type": "display_data"
    }
   ],
   "source": [
    "sns.histplot(df['age'], bins=100, kde=True)"
   ]
  },
  {
   "cell_type": "code",
   "execution_count": 28,
   "metadata": {},
   "outputs": [
    {
     "data": {
      "text/plain": [
       "<Axes: xlabel='cylinders', ylabel='Count'>"
      ]
     },
     "execution_count": 28,
     "metadata": {},
     "output_type": "execute_result"
    },
    {
     "data": {
      "image/png": "[encoded data removed]",
      "text/plain": [
       "<Figure size 640x480 with 1 Axes>"
      ]
     },
     "metadata": {},
     "output_type": "display_data"
    }
   ],
   "source": [
    "sns.histplot(df['cylinders'], kde=True)"
   ]
  },
  {
   "cell_type": "code",
   "execution_count": 29,
   "metadata": {},
   "outputs": [],
   "source": [
    "# Because price an odometer are skewed, take the log transformation\n",
    "df['log_price'] = np.log1p(df['price'])\n",
    "df['log_odometer'] = np.log1p(df['odometer'])\n",
    "#df['log_age'] = np.log1p(df['age'])\n",
    "\n",
    "df = df.drop('price', axis = 1)\n",
    "df = df.drop('odometer', axis = 1)\n",
    "#df = df.drop('age', axis = 1)"
   ]
  },
  {
   "cell_type": "code",
   "execution_count": 30,
   "metadata": {},
   "outputs": [
    {
     "data": {
      "text/html": [
       "<div>\n",
       "<style scoped>\n",
       "    .dataframe tbody tr th:only-of-type {\n",
       "        vertical-align: middle;\n",
       "    }\n",
       "\n",
       "    .dataframe tbody tr th {\n",
       "        vertical-align: top;\n",
       "    }\n",
       "\n",
       "    .dataframe thead th {\n",
       "        text-align: right;\n",
       "    }\n",
       "</style>\n",
       "<table border=\"1\" class=\"dataframe\">\n",
       "  <thead>\n",
       "    <tr style=\"text-align: right;\">\n",
       "      <th></th>\n",
       "      <th>manufacturer</th>\n",
       "      <th>condition</th>\n",
       "      <th>cylinders</th>\n",
       "      <th>fuel</th>\n",
       "      <th>transmission</th>\n",
       "      <th>type</th>\n",
       "      <th>age</th>\n",
       "      <th>log_price</th>\n",
       "      <th>log_odometer</th>\n",
       "    </tr>\n",
       "    <tr>\n",
       "      <th>id</th>\n",
       "      <th></th>\n",
       "      <th></th>\n",
       "      <th></th>\n",
       "      <th></th>\n",
       "      <th></th>\n",
       "      <th></th>\n",
       "      <th></th>\n",
       "      <th></th>\n",
       "      <th></th>\n",
       "    </tr>\n",
       "  </thead>\n",
       "  <tbody>\n",
       "    <tr>\n",
       "      <th>7316814884</th>\n",
       "      <td>gmc</td>\n",
       "      <td>good</td>\n",
       "      <td>8</td>\n",
       "      <td>gas</td>\n",
       "      <td>other</td>\n",
       "      <td>pickup</td>\n",
       "      <td>8.0</td>\n",
       "      <td>10.422013</td>\n",
       "      <td>10.966887</td>\n",
       "    </tr>\n",
       "    <tr>\n",
       "      <th>7316814758</th>\n",
       "      <td>chevrolet</td>\n",
       "      <td>good</td>\n",
       "      <td>8</td>\n",
       "      <td>gas</td>\n",
       "      <td>other</td>\n",
       "      <td>pickup</td>\n",
       "      <td>12.0</td>\n",
       "      <td>10.025307</td>\n",
       "      <td>11.173669</td>\n",
       "    </tr>\n",
       "    <tr>\n",
       "      <th>7316814989</th>\n",
       "      <td>chevrolet</td>\n",
       "      <td>good</td>\n",
       "      <td>8</td>\n",
       "      <td>gas</td>\n",
       "      <td>other</td>\n",
       "      <td>pickup</td>\n",
       "      <td>2.0</td>\n",
       "      <td>10.586357</td>\n",
       "      <td>9.860632</td>\n",
       "    </tr>\n",
       "    <tr>\n",
       "      <th>7316743432</th>\n",
       "      <td>toyota</td>\n",
       "      <td>good</td>\n",
       "      <td>8</td>\n",
       "      <td>gas</td>\n",
       "      <td>other</td>\n",
       "      <td>pickup</td>\n",
       "      <td>5.0</td>\n",
       "      <td>10.341452</td>\n",
       "      <td>10.624371</td>\n",
       "    </tr>\n",
       "    <tr>\n",
       "      <th>7316356412</th>\n",
       "      <td>ford</td>\n",
       "      <td>excellent</td>\n",
       "      <td>6</td>\n",
       "      <td>gas</td>\n",
       "      <td>automatic</td>\n",
       "      <td>truck</td>\n",
       "      <td>9.0</td>\n",
       "      <td>9.615872</td>\n",
       "      <td>11.759793</td>\n",
       "    </tr>\n",
       "  </tbody>\n",
       "</table>\n",
       "</div>"
      ],
      "text/plain": [
       "           manufacturer  condition  cylinders fuel transmission    type   age  \\\n",
       "id                                                                              \n",
       "7316814884          gmc       good          8  gas        other  pickup   8.0   \n",
       "7316814758    chevrolet       good          8  gas        other  pickup  12.0   \n",
       "7316814989    chevrolet       good          8  gas        other  pickup   2.0   \n",
       "7316743432       toyota       good          8  gas        other  pickup   5.0   \n",
       "7316356412         ford  excellent          6  gas    automatic   truck   9.0   \n",
       "\n",
       "            log_price  log_odometer  \n",
       "id                                   \n",
       "7316814884  10.422013     10.966887  \n",
       "7316814758  10.025307     11.173669  \n",
       "7316814989  10.586357      9.860632  \n",
       "7316743432  10.341452     10.624371  \n",
       "7316356412   9.615872     11.759793  "
      ]
     },
     "execution_count": 30,
     "metadata": {},
     "output_type": "execute_result"
    }
   ],
   "source": [
    "df.head()"
   ]
  },
  {
   "cell_type": "code",
   "execution_count": 31,
   "metadata": {},
   "outputs": [
    {
     "data": {
      "text/plain": [
       "<Axes: xlabel='log_price', ylabel='Count'>"
      ]
     },
     "execution_count": 31,
     "metadata": {},
     "output_type": "execute_result"
    },
    {
     "data": {
      "image/png": "[encoded data removed]",
      "text/plain": [
       "<Figure size 640x480 with 1 Axes>"
      ]
     },
     "metadata": {},
     "output_type": "display_data"
    }
   ],
   "source": [
    "sns.histplot(df['log_price'], kde=True)"
   ]
  },
  {
   "cell_type": "code",
   "execution_count": 32,
   "metadata": {},
   "outputs": [
    {
     "data": {
      "text/plain": [
       "<Axes: xlabel='log_odometer', ylabel='Count'>"
      ]
     },
     "execution_count": 32,
     "metadata": {},
     "output_type": "execute_result"
    },
    {
     "data": {
      "image/png": "[encoded data removed]",
      "text/plain": [
       "<Figure size 640x480 with 1 Axes>"
      ]
     },
     "metadata": {},
     "output_type": "display_data"
    }
   ],
   "source": [
    "sns.histplot(df['log_odometer'], kde=True)"
   ]
  },
  {
   "cell_type": "code",
   "execution_count": 33,
   "metadata": {},
   "outputs": [
    {
     "data": {
      "text/plain": [
       "<Axes: xlabel='cylinders', ylabel='Count'>"
      ]
     },
     "execution_count": 33,
     "metadata": {},
     "output_type": "execute_result"
    },
    {
     "data": {
      "image/png": "[encoded data removed]",
      "text/plain": [
       "<Figure size 640x480 with 1 Axes>"
      ]
     },
     "metadata": {},
     "output_type": "display_data"
    }
   ],
   "source": [
    "sns.histplot(df['cylinders'], kde=True)"
   ]
  },
  {
   "cell_type": "code",
   "execution_count": 34,
   "metadata": {},
   "outputs": [],
   "source": [
    "# For cylinders, the data is tri modeal.  So we will turn this into categorical attribute. \n",
    "# Define bins and labels\n",
    "bins = [3, 4, 6, 8, 12]  # Edges for the bins\n",
    "labels = ['Mode1', 'Mode2', 'Mode3', 'High']  # Labels for each bin\n",
    "\n",
    "# Create a new categorical column\n",
    "df['cyl_category'] = pd.cut(df['cylinders'], bins=bins, labels=labels, include_lowest=True)\n",
    "df = df.drop('cylinders', axis = 1)"
   ]
  },
  {
   "cell_type": "code",
   "execution_count": 35,
   "metadata": {},
   "outputs": [
    {
     "data": {
      "text/html": [
       "<div>\n",
       "<style scoped>\n",
       "    .dataframe tbody tr th:only-of-type {\n",
       "        vertical-align: middle;\n",
       "    }\n",
       "\n",
       "    .dataframe tbody tr th {\n",
       "        vertical-align: top;\n",
       "    }\n",
       "\n",
       "    .dataframe thead th {\n",
       "        text-align: right;\n",
       "    }\n",
       "</style>\n",
       "<table border=\"1\" class=\"dataframe\">\n",
       "  <thead>\n",
       "    <tr style=\"text-align: right;\">\n",
       "      <th></th>\n",
       "      <th>manufacturer</th>\n",
       "      <th>condition</th>\n",
       "      <th>fuel</th>\n",
       "      <th>transmission</th>\n",
       "      <th>type</th>\n",
       "      <th>age</th>\n",
       "      <th>log_price</th>\n",
       "      <th>log_odometer</th>\n",
       "      <th>cyl_category</th>\n",
       "    </tr>\n",
       "    <tr>\n",
       "      <th>id</th>\n",
       "      <th></th>\n",
       "      <th></th>\n",
       "      <th></th>\n",
       "      <th></th>\n",
       "      <th></th>\n",
       "      <th></th>\n",
       "      <th></th>\n",
       "      <th></th>\n",
       "      <th></th>\n",
       "    </tr>\n",
       "  </thead>\n",
       "  <tbody>\n",
       "    <tr>\n",
       "      <th>7316814884</th>\n",
       "      <td>gmc</td>\n",
       "      <td>good</td>\n",
       "      <td>gas</td>\n",
       "      <td>other</td>\n",
       "      <td>pickup</td>\n",
       "      <td>8.0</td>\n",
       "      <td>10.422013</td>\n",
       "      <td>10.966887</td>\n",
       "      <td>Mode3</td>\n",
       "    </tr>\n",
       "    <tr>\n",
       "      <th>7316814758</th>\n",
       "      <td>chevrolet</td>\n",
       "      <td>good</td>\n",
       "      <td>gas</td>\n",
       "      <td>other</td>\n",
       "      <td>pickup</td>\n",
       "      <td>12.0</td>\n",
       "      <td>10.025307</td>\n",
       "      <td>11.173669</td>\n",
       "      <td>Mode3</td>\n",
       "    </tr>\n",
       "    <tr>\n",
       "      <th>7316814989</th>\n",
       "      <td>chevrolet</td>\n",
       "      <td>good</td>\n",
       "      <td>gas</td>\n",
       "      <td>other</td>\n",
       "      <td>pickup</td>\n",
       "      <td>2.0</td>\n",
       "      <td>10.586357</td>\n",
       "      <td>9.860632</td>\n",
       "      <td>Mode3</td>\n",
       "    </tr>\n",
       "    <tr>\n",
       "      <th>7316743432</th>\n",
       "      <td>toyota</td>\n",
       "      <td>good</td>\n",
       "      <td>gas</td>\n",
       "      <td>other</td>\n",
       "      <td>pickup</td>\n",
       "      <td>5.0</td>\n",
       "      <td>10.341452</td>\n",
       "      <td>10.624371</td>\n",
       "      <td>Mode3</td>\n",
       "    </tr>\n",
       "    <tr>\n",
       "      <th>7316356412</th>\n",
       "      <td>ford</td>\n",
       "      <td>excellent</td>\n",
       "      <td>gas</td>\n",
       "      <td>automatic</td>\n",
       "      <td>truck</td>\n",
       "      <td>9.0</td>\n",
       "      <td>9.615872</td>\n",
       "      <td>11.759793</td>\n",
       "      <td>Mode2</td>\n",
       "    </tr>\n",
       "  </tbody>\n",
       "</table>\n",
       "</div>"
      ],
      "text/plain": [
       "           manufacturer  condition fuel transmission    type   age  log_price  \\\n",
       "id                                                                              \n",
       "7316814884          gmc       good  gas        other  pickup   8.0  10.422013   \n",
       "7316814758    chevrolet       good  gas        other  pickup  12.0  10.025307   \n",
       "7316814989    chevrolet       good  gas        other  pickup   2.0  10.586357   \n",
       "7316743432       toyota       good  gas        other  pickup   5.0  10.341452   \n",
       "7316356412         ford  excellent  gas    automatic   truck   9.0   9.615872   \n",
       "\n",
       "            log_odometer cyl_category  \n",
       "id                                     \n",
       "7316814884     10.966887        Mode3  \n",
       "7316814758     11.173669        Mode3  \n",
       "7316814989      9.860632        Mode3  \n",
       "7316743432     10.624371        Mode3  \n",
       "7316356412     11.759793        Mode2  "
      ]
     },
     "execution_count": 35,
     "metadata": {},
     "output_type": "execute_result"
    }
   ],
   "source": [
    "df.head()"
   ]
  },
  {
   "cell_type": "code",
   "execution_count": 36,
   "metadata": {},
   "outputs": [
    {
     "data": {
      "text/plain": [
       "cyl_category\n",
       "Mode2    56121\n",
       "Mode3    40217\n",
       "Mode1    38300\n",
       "High       976\n",
       "Name: count, dtype: int64"
      ]
     },
     "execution_count": 36,
     "metadata": {},
     "output_type": "execute_result"
    }
   ],
   "source": [
    "df['cyl_category'].value_counts()"
   ]
  },
  {
   "cell_type": "code",
   "execution_count": 37,
   "metadata": {},
   "outputs": [
    {
     "data": {
      "text/plain": [
       "log_price       1.000000\n",
       "age            -0.287245\n",
       "log_odometer   -0.305607\n",
       "Name: log_price, dtype: float64"
      ]
     },
     "execution_count": 37,
     "metadata": {},
     "output_type": "execute_result"
    }
   ],
   "source": [
    "# Transformed attributes now show correlation\n",
    "corr_matrix = df.corr(numeric_only=True)\n",
    "corr_matrix['log_price'].sort_values(ascending=False)"
   ]
  },
  {
   "cell_type": "code",
   "execution_count": 38,
   "metadata": {},
   "outputs": [
    {
     "data": {
      "text/plain": [
       "log_odometer    1.000000\n",
       "age             0.152901\n",
       "log_price      -0.305607\n",
       "Name: log_odometer, dtype: float64"
      ]
     },
     "execution_count": 38,
     "metadata": {},
     "output_type": "execute_result"
    }
   ],
   "source": [
    "corr_matrix['log_odometer'].sort_values(ascending=False)"
   ]
  },
  {
   "cell_type": "code",
   "execution_count": 39,
   "metadata": {},
   "outputs": [
    {
     "data": {
      "text/html": [
       "<div>\n",
       "<style scoped>\n",
       "    .dataframe tbody tr th:only-of-type {\n",
       "        vertical-align: middle;\n",
       "    }\n",
       "\n",
       "    .dataframe tbody tr th {\n",
       "        vertical-align: top;\n",
       "    }\n",
       "\n",
       "    .dataframe thead th {\n",
       "        text-align: right;\n",
       "    }\n",
       "</style>\n",
       "<table border=\"1\" class=\"dataframe\">\n",
       "  <thead>\n",
       "    <tr style=\"text-align: right;\">\n",
       "      <th></th>\n",
       "      <th>age</th>\n",
       "      <th>log_price</th>\n",
       "      <th>log_odometer</th>\n",
       "    </tr>\n",
       "  </thead>\n",
       "  <tbody>\n",
       "    <tr>\n",
       "      <th>count</th>\n",
       "      <td>135614.000000</td>\n",
       "      <td>135614.000000</td>\n",
       "      <td>135614.000000</td>\n",
       "    </tr>\n",
       "    <tr>\n",
       "      <th>mean</th>\n",
       "      <td>12.140177</td>\n",
       "      <td>9.347709</td>\n",
       "      <td>11.143877</td>\n",
       "    </tr>\n",
       "    <tr>\n",
       "      <th>std</th>\n",
       "      <td>9.694034</td>\n",
       "      <td>1.190471</td>\n",
       "      <td>1.290865</td>\n",
       "    </tr>\n",
       "    <tr>\n",
       "      <th>min</th>\n",
       "      <td>0.000000</td>\n",
       "      <td>0.693147</td>\n",
       "      <td>0.000000</td>\n",
       "    </tr>\n",
       "    <tr>\n",
       "      <th>25%</th>\n",
       "      <td>6.000000</td>\n",
       "      <td>8.779711</td>\n",
       "      <td>10.735962</td>\n",
       "    </tr>\n",
       "    <tr>\n",
       "      <th>50%</th>\n",
       "      <td>10.000000</td>\n",
       "      <td>9.472397</td>\n",
       "      <td>11.492733</td>\n",
       "    </tr>\n",
       "    <tr>\n",
       "      <th>75%</th>\n",
       "      <td>15.000000</td>\n",
       "      <td>10.188328</td>\n",
       "      <td>11.878426</td>\n",
       "    </tr>\n",
       "    <tr>\n",
       "      <th>max</th>\n",
       "      <td>122.000000</td>\n",
       "      <td>22.041530</td>\n",
       "      <td>16.118096</td>\n",
       "    </tr>\n",
       "  </tbody>\n",
       "</table>\n",
       "</div>"
      ],
      "text/plain": [
       "                 age      log_price   log_odometer\n",
       "count  135614.000000  135614.000000  135614.000000\n",
       "mean       12.140177       9.347709      11.143877\n",
       "std         9.694034       1.190471       1.290865\n",
       "min         0.000000       0.693147       0.000000\n",
       "25%         6.000000       8.779711      10.735962\n",
       "50%        10.000000       9.472397      11.492733\n",
       "75%        15.000000      10.188328      11.878426\n",
       "max       122.000000      22.041530      16.118096"
      ]
     },
     "execution_count": 39,
     "metadata": {},
     "output_type": "execute_result"
    }
   ],
   "source": [
    "df.describe()"
   ]
  },
  {
   "cell_type": "markdown",
   "metadata": {},
   "source": [
    "# Linear Regression"
   ]
  },
  {
   "cell_type": "code",
   "execution_count": 74,
   "metadata": {},
   "outputs": [],
   "source": [
    "from sklearn.linear_model import LinearRegression, Lasso, Ridge\n",
    "from sklearn.pipeline import Pipeline\n",
    "from sklearn.preprocessing import PolynomialFeatures, OneHotEncoder, OrdinalEncoder, StandardScaler\n",
    "from sklearn.feature_selection import SequentialFeatureSelector, SelectFromModel\n",
    "from sklearn.metrics import mean_squared_error \n",
    "from sklearn.model_selection import train_test_split, GridSearchCV\n",
    "from sklearn.compose import make_column_transformer, make_column_selector, ColumnTransformer\n",
    "\n",
    "from sklearn import set_config\n",
    "\n",
    "set_config(display=\"diagram\") #setting this will display your pipelines as seen above"
   ]
  },
  {
   "cell_type": "code",
   "execution_count": 76,
   "metadata": {},
   "outputs": [
    {
     "name": "stdout",
     "output_type": "stream",
     "text": [
      "(94929, 8)\n",
      "(40685, 8)\n",
      "<class 'pandas.core.frame.DataFrame'> <class 'pandas.core.series.Series'>\n"
     ]
    }
   ],
   "source": [
    "# Split the data\n",
    "X = df.drop('log_price', axis = 1)\n",
    "y = df['log_price']\n",
    "\n",
    "X_train, X_test, y_train, y_test = train_test_split(X, y, test_size=0.3, random_state=22)\n",
    "print(X_train.shape)\n",
    "print(X_test.shape)\n",
    "print(type(X_train), type(y_train))"
   ]
  },
  {
   "cell_type": "code",
   "execution_count": 78,
   "metadata": {},
   "outputs": [
    {
     "data": {
      "text/html": [
       "<div>\n",
       "<style scoped>\n",
       "    .dataframe tbody tr th:only-of-type {\n",
       "        vertical-align: middle;\n",
       "    }\n",
       "\n",
       "    .dataframe tbody tr th {\n",
       "        vertical-align: top;\n",
       "    }\n",
       "\n",
       "    .dataframe thead th {\n",
       "        text-align: right;\n",
       "    }\n",
       "</style>\n",
       "<table border=\"1\" class=\"dataframe\">\n",
       "  <thead>\n",
       "    <tr style=\"text-align: right;\">\n",
       "      <th></th>\n",
       "      <th>manufacturer</th>\n",
       "      <th>condition</th>\n",
       "      <th>fuel</th>\n",
       "      <th>transmission</th>\n",
       "      <th>type</th>\n",
       "      <th>age</th>\n",
       "      <th>log_price</th>\n",
       "      <th>log_odometer</th>\n",
       "      <th>cyl_category</th>\n",
       "    </tr>\n",
       "    <tr>\n",
       "      <th>id</th>\n",
       "      <th></th>\n",
       "      <th></th>\n",
       "      <th></th>\n",
       "      <th></th>\n",
       "      <th></th>\n",
       "      <th></th>\n",
       "      <th></th>\n",
       "      <th></th>\n",
       "      <th></th>\n",
       "    </tr>\n",
       "  </thead>\n",
       "  <tbody>\n",
       "    <tr>\n",
       "      <th>7316814884</th>\n",
       "      <td>gmc</td>\n",
       "      <td>good</td>\n",
       "      <td>gas</td>\n",
       "      <td>other</td>\n",
       "      <td>pickup</td>\n",
       "      <td>8.0</td>\n",
       "      <td>10.422013</td>\n",
       "      <td>10.966887</td>\n",
       "      <td>Mode3</td>\n",
       "    </tr>\n",
       "    <tr>\n",
       "      <th>7316814758</th>\n",
       "      <td>chevrolet</td>\n",
       "      <td>good</td>\n",
       "      <td>gas</td>\n",
       "      <td>other</td>\n",
       "      <td>pickup</td>\n",
       "      <td>12.0</td>\n",
       "      <td>10.025307</td>\n",
       "      <td>11.173669</td>\n",
       "      <td>Mode3</td>\n",
       "    </tr>\n",
       "    <tr>\n",
       "      <th>7316814989</th>\n",
       "      <td>chevrolet</td>\n",
       "      <td>good</td>\n",
       "      <td>gas</td>\n",
       "      <td>other</td>\n",
       "      <td>pickup</td>\n",
       "      <td>2.0</td>\n",
       "      <td>10.586357</td>\n",
       "      <td>9.860632</td>\n",
       "      <td>Mode3</td>\n",
       "    </tr>\n",
       "    <tr>\n",
       "      <th>7316743432</th>\n",
       "      <td>toyota</td>\n",
       "      <td>good</td>\n",
       "      <td>gas</td>\n",
       "      <td>other</td>\n",
       "      <td>pickup</td>\n",
       "      <td>5.0</td>\n",
       "      <td>10.341452</td>\n",
       "      <td>10.624371</td>\n",
       "      <td>Mode3</td>\n",
       "    </tr>\n",
       "    <tr>\n",
       "      <th>7316356412</th>\n",
       "      <td>ford</td>\n",
       "      <td>excellent</td>\n",
       "      <td>gas</td>\n",
       "      <td>automatic</td>\n",
       "      <td>truck</td>\n",
       "      <td>9.0</td>\n",
       "      <td>9.615872</td>\n",
       "      <td>11.759793</td>\n",
       "      <td>Mode2</td>\n",
       "    </tr>\n",
       "  </tbody>\n",
       "</table>\n",
       "</div>"
      ],
      "text/plain": [
       "           manufacturer  condition fuel transmission    type   age  log_price  \\\n",
       "id                                                                              \n",
       "7316814884          gmc       good  gas        other  pickup   8.0  10.422013   \n",
       "7316814758    chevrolet       good  gas        other  pickup  12.0  10.025307   \n",
       "7316814989    chevrolet       good  gas        other  pickup   2.0  10.586357   \n",
       "7316743432       toyota       good  gas        other  pickup   5.0  10.341452   \n",
       "7316356412         ford  excellent  gas    automatic   truck   9.0   9.615872   \n",
       "\n",
       "            log_odometer cyl_category  \n",
       "id                                     \n",
       "7316814884     10.966887        Mode3  \n",
       "7316814758     11.173669        Mode3  \n",
       "7316814989      9.860632        Mode3  \n",
       "7316743432     10.624371        Mode3  \n",
       "7316356412     11.759793        Mode2  "
      ]
     },
     "execution_count": 78,
     "metadata": {},
     "output_type": "execute_result"
    }
   ],
   "source": [
    "df.head()"
   ]
  },
  {
   "cell_type": "markdown",
   "metadata": {},
   "source": [
    "## GridSearchCV Linear Regression with Polynomial and Lasso Feature Selection"
   ]
  },
  {
   "cell_type": "code",
   "execution_count": 226,
   "metadata": {},
   "outputs": [
    {
     "name": "stdout",
     "output_type": "stream",
     "text": [
      "Fitting 5 folds for each of 20 candidates, totalling 100 fits\n",
      "[CV] END feature_selector__estimator__alpha=0.001, preprocessor__poly_scaler__poly__degree=2; total time=   1.6s\n",
      "[CV] END feature_selector__estimator__alpha=0.001, preprocessor__poly_scaler__poly__degree=2; total time=   1.1s\n",
      "[CV] END feature_selector__estimator__alpha=0.001, preprocessor__poly_scaler__poly__degree=2; total time=   1.3s\n",
      "[CV] END feature_selector__estimator__alpha=0.001, preprocessor__poly_scaler__poly__degree=2; total time=   1.3s\n",
      "[CV] END feature_selector__estimator__alpha=0.001, preprocessor__poly_scaler__poly__degree=2; total time=   1.1s\n"
     ]
    },
    {
     "name": "stderr",
     "output_type": "stream",
     "text": [
      "/opt/anaconda3/envs/berkeley/lib/python3.12/site-packages/sklearn/linear_model/_coordinate_descent.py:697: ConvergenceWarning: Objective did not converge. You might want to increase the number of iterations, check the scale of the features or consider increasing regularisation. Duality gap: 6.077e+02, tolerance: 1.077e+01\n",
      "  model = cd_fast.enet_coordinate_descent(\n"
     ]
    },
    {
     "name": "stdout",
     "output_type": "stream",
     "text": [
      "[CV] END feature_selector__estimator__alpha=0.001, preprocessor__poly_scaler__poly__degree=3; total time=   4.2s\n"
     ]
    },
    {
     "name": "stderr",
     "output_type": "stream",
     "text": [
      "/opt/anaconda3/envs/berkeley/lib/python3.12/site-packages/sklearn/linear_model/_coordinate_descent.py:697: ConvergenceWarning: Objective did not converge. You might want to increase the number of iterations, check the scale of the features or consider increasing regularisation. Duality gap: 5.076e+02, tolerance: 1.089e+01\n",
      "  model = cd_fast.enet_coordinate_descent(\n"
     ]
    },
    {
     "name": "stdout",
     "output_type": "stream",
     "text": [
      "[CV] END feature_selector__estimator__alpha=0.001, preprocessor__poly_scaler__poly__degree=3; total time=   4.3s\n"
     ]
    },
    {
     "name": "stderr",
     "output_type": "stream",
     "text": [
      "/opt/anaconda3/envs/berkeley/lib/python3.12/site-packages/sklearn/linear_model/_coordinate_descent.py:697: ConvergenceWarning: Objective did not converge. You might want to increase the number of iterations, check the scale of the features or consider increasing regularisation. Duality gap: 6.400e+02, tolerance: 1.096e+01\n",
      "  model = cd_fast.enet_coordinate_descent(\n"
     ]
    },
    {
     "name": "stdout",
     "output_type": "stream",
     "text": [
      "[CV] END feature_selector__estimator__alpha=0.001, preprocessor__poly_scaler__poly__degree=3; total time=   4.0s\n"
     ]
    },
    {
     "name": "stderr",
     "output_type": "stream",
     "text": [
      "/opt/anaconda3/envs/berkeley/lib/python3.12/site-packages/sklearn/linear_model/_coordinate_descent.py:697: ConvergenceWarning: Objective did not converge. You might want to increase the number of iterations, check the scale of the features or consider increasing regularisation. Duality gap: 4.453e+02, tolerance: 1.069e+01\n",
      "  model = cd_fast.enet_coordinate_descent(\n"
     ]
    },
    {
     "name": "stdout",
     "output_type": "stream",
     "text": [
      "[CV] END feature_selector__estimator__alpha=0.001, preprocessor__poly_scaler__poly__degree=3; total time=   4.1s\n"
     ]
    },
    {
     "name": "stderr",
     "output_type": "stream",
     "text": [
      "/opt/anaconda3/envs/berkeley/lib/python3.12/site-packages/sklearn/linear_model/_coordinate_descent.py:697: ConvergenceWarning: Objective did not converge. You might want to increase the number of iterations, check the scale of the features or consider increasing regularisation. Duality gap: 5.046e+02, tolerance: 1.080e+01\n",
      "  model = cd_fast.enet_coordinate_descent(\n"
     ]
    },
    {
     "name": "stdout",
     "output_type": "stream",
     "text": [
      "[CV] END feature_selector__estimator__alpha=0.001, preprocessor__poly_scaler__poly__degree=3; total time=   4.6s\n"
     ]
    },
    {
     "name": "stderr",
     "output_type": "stream",
     "text": [
      "/opt/anaconda3/envs/berkeley/lib/python3.12/site-packages/sklearn/linear_model/_coordinate_descent.py:697: ConvergenceWarning: Objective did not converge. You might want to increase the number of iterations, check the scale of the features or consider increasing regularisation. Duality gap: 9.463e+01, tolerance: 1.077e+01\n",
      "  model = cd_fast.enet_coordinate_descent(\n"
     ]
    },
    {
     "name": "stdout",
     "output_type": "stream",
     "text": [
      "[CV] END feature_selector__estimator__alpha=0.001, preprocessor__poly_scaler__poly__degree=5; total time=   5.5s\n"
     ]
    },
    {
     "name": "stderr",
     "output_type": "stream",
     "text": [
      "/opt/anaconda3/envs/berkeley/lib/python3.12/site-packages/sklearn/linear_model/_coordinate_descent.py:697: ConvergenceWarning: Objective did not converge. You might want to increase the number of iterations, check the scale of the features or consider increasing regularisation. Duality gap: 9.558e+01, tolerance: 1.089e+01\n",
      "  model = cd_fast.enet_coordinate_descent(\n"
     ]
    },
    {
     "name": "stdout",
     "output_type": "stream",
     "text": [
      "[CV] END feature_selector__estimator__alpha=0.001, preprocessor__poly_scaler__poly__degree=5; total time=   5.2s\n"
     ]
    },
    {
     "name": "stderr",
     "output_type": "stream",
     "text": [
      "/opt/anaconda3/envs/berkeley/lib/python3.12/site-packages/sklearn/linear_model/_coordinate_descent.py:697: ConvergenceWarning: Objective did not converge. You might want to increase the number of iterations, check the scale of the features or consider increasing regularisation. Duality gap: 6.037e+01, tolerance: 1.096e+01\n",
      "  model = cd_fast.enet_coordinate_descent(\n"
     ]
    },
    {
     "name": "stdout",
     "output_type": "stream",
     "text": [
      "[CV] END feature_selector__estimator__alpha=0.001, preprocessor__poly_scaler__poly__degree=5; total time=   6.2s\n"
     ]
    },
    {
     "name": "stderr",
     "output_type": "stream",
     "text": [
      "/opt/anaconda3/envs/berkeley/lib/python3.12/site-packages/sklearn/linear_model/_coordinate_descent.py:697: ConvergenceWarning: Objective did not converge. You might want to increase the number of iterations, check the scale of the features or consider increasing regularisation. Duality gap: 1.470e+02, tolerance: 1.069e+01\n",
      "  model = cd_fast.enet_coordinate_descent(\n"
     ]
    },
    {
     "name": "stdout",
     "output_type": "stream",
     "text": [
      "[CV] END feature_selector__estimator__alpha=0.001, preprocessor__poly_scaler__poly__degree=5; total time=   5.2s\n"
     ]
    },
    {
     "name": "stderr",
     "output_type": "stream",
     "text": [
      "/opt/anaconda3/envs/berkeley/lib/python3.12/site-packages/sklearn/linear_model/_coordinate_descent.py:697: ConvergenceWarning: Objective did not converge. You might want to increase the number of iterations, check the scale of the features or consider increasing regularisation. Duality gap: 1.764e+02, tolerance: 1.080e+01\n",
      "  model = cd_fast.enet_coordinate_descent(\n"
     ]
    },
    {
     "name": "stdout",
     "output_type": "stream",
     "text": [
      "[CV] END feature_selector__estimator__alpha=0.001, preprocessor__poly_scaler__poly__degree=5; total time=   5.5s\n"
     ]
    },
    {
     "name": "stderr",
     "output_type": "stream",
     "text": [
      "/opt/anaconda3/envs/berkeley/lib/python3.12/site-packages/sklearn/linear_model/_coordinate_descent.py:697: ConvergenceWarning: Objective did not converge. You might want to increase the number of iterations, check the scale of the features or consider increasing regularisation. Duality gap: 1.661e+02, tolerance: 1.077e+01\n",
      "  model = cd_fast.enet_coordinate_descent(\n"
     ]
    },
    {
     "name": "stdout",
     "output_type": "stream",
     "text": [
      "[CV] END feature_selector__estimator__alpha=0.001, preprocessor__poly_scaler__poly__degree=7; total time=   7.2s\n"
     ]
    },
    {
     "name": "stderr",
     "output_type": "stream",
     "text": [
      "/opt/anaconda3/envs/berkeley/lib/python3.12/site-packages/sklearn/linear_model/_coordinate_descent.py:697: ConvergenceWarning: Objective did not converge. You might want to increase the number of iterations, check the scale of the features or consider increasing regularisation. Duality gap: 9.928e+01, tolerance: 1.089e+01\n",
      "  model = cd_fast.enet_coordinate_descent(\n"
     ]
    },
    {
     "name": "stdout",
     "output_type": "stream",
     "text": [
      "[CV] END feature_selector__estimator__alpha=0.001, preprocessor__poly_scaler__poly__degree=7; total time=   7.2s\n"
     ]
    },
    {
     "name": "stderr",
     "output_type": "stream",
     "text": [
      "/opt/anaconda3/envs/berkeley/lib/python3.12/site-packages/sklearn/linear_model/_coordinate_descent.py:697: ConvergenceWarning: Objective did not converge. You might want to increase the number of iterations, check the scale of the features or consider increasing regularisation. Duality gap: 1.881e+02, tolerance: 1.096e+01\n",
      "  model = cd_fast.enet_coordinate_descent(\n"
     ]
    },
    {
     "name": "stdout",
     "output_type": "stream",
     "text": [
      "[CV] END feature_selector__estimator__alpha=0.001, preprocessor__poly_scaler__poly__degree=7; total time=   7.9s\n"
     ]
    },
    {
     "name": "stderr",
     "output_type": "stream",
     "text": [
      "/opt/anaconda3/envs/berkeley/lib/python3.12/site-packages/sklearn/linear_model/_coordinate_descent.py:697: ConvergenceWarning: Objective did not converge. You might want to increase the number of iterations, check the scale of the features or consider increasing regularisation. Duality gap: 1.693e+02, tolerance: 1.069e+01\n",
      "  model = cd_fast.enet_coordinate_descent(\n"
     ]
    },
    {
     "name": "stdout",
     "output_type": "stream",
     "text": [
      "[CV] END feature_selector__estimator__alpha=0.001, preprocessor__poly_scaler__poly__degree=7; total time=   6.9s\n"
     ]
    },
    {
     "name": "stderr",
     "output_type": "stream",
     "text": [
      "/opt/anaconda3/envs/berkeley/lib/python3.12/site-packages/sklearn/linear_model/_coordinate_descent.py:697: ConvergenceWarning: Objective did not converge. You might want to increase the number of iterations, check the scale of the features or consider increasing regularisation. Duality gap: 1.226e+02, tolerance: 1.080e+01\n",
      "  model = cd_fast.enet_coordinate_descent(\n"
     ]
    },
    {
     "name": "stdout",
     "output_type": "stream",
     "text": [
      "[CV] END feature_selector__estimator__alpha=0.001, preprocessor__poly_scaler__poly__degree=7; total time=   7.2s\n",
      "[CV] END feature_selector__estimator__alpha=0.01, preprocessor__poly_scaler__poly__degree=2; total time=   0.8s\n",
      "[CV] END feature_selector__estimator__alpha=0.01, preprocessor__poly_scaler__poly__degree=2; total time=   0.6s\n",
      "[CV] END feature_selector__estimator__alpha=0.01, preprocessor__poly_scaler__poly__degree=2; total time=   0.6s\n",
      "[CV] END feature_selector__estimator__alpha=0.01, preprocessor__poly_scaler__poly__degree=2; total time=   1.0s\n",
      "[CV] END feature_selector__estimator__alpha=0.01, preprocessor__poly_scaler__poly__degree=2; total time=   0.7s\n"
     ]
    },
    {
     "name": "stderr",
     "output_type": "stream",
     "text": [
      "/opt/anaconda3/envs/berkeley/lib/python3.12/site-packages/sklearn/linear_model/_coordinate_descent.py:697: ConvergenceWarning: Objective did not converge. You might want to increase the number of iterations, check the scale of the features or consider increasing regularisation. Duality gap: 2.055e+01, tolerance: 1.077e+01\n",
      "  model = cd_fast.enet_coordinate_descent(\n"
     ]
    },
    {
     "name": "stdout",
     "output_type": "stream",
     "text": [
      "[CV] END feature_selector__estimator__alpha=0.01, preprocessor__poly_scaler__poly__degree=3; total time=   3.7s\n"
     ]
    },
    {
     "name": "stderr",
     "output_type": "stream",
     "text": [
      "/opt/anaconda3/envs/berkeley/lib/python3.12/site-packages/sklearn/linear_model/_coordinate_descent.py:697: ConvergenceWarning: Objective did not converge. You might want to increase the number of iterations, check the scale of the features or consider increasing regularisation. Duality gap: 1.726e+01, tolerance: 1.089e+01\n",
      "  model = cd_fast.enet_coordinate_descent(\n"
     ]
    },
    {
     "name": "stdout",
     "output_type": "stream",
     "text": [
      "[CV] END feature_selector__estimator__alpha=0.01, preprocessor__poly_scaler__poly__degree=3; total time=   3.6s\n"
     ]
    },
    {
     "name": "stderr",
     "output_type": "stream",
     "text": [
      "/opt/anaconda3/envs/berkeley/lib/python3.12/site-packages/sklearn/linear_model/_coordinate_descent.py:697: ConvergenceWarning: Objective did not converge. You might want to increase the number of iterations, check the scale of the features or consider increasing regularisation. Duality gap: 2.315e+01, tolerance: 1.096e+01\n",
      "  model = cd_fast.enet_coordinate_descent(\n"
     ]
    },
    {
     "name": "stdout",
     "output_type": "stream",
     "text": [
      "[CV] END feature_selector__estimator__alpha=0.01, preprocessor__poly_scaler__poly__degree=3; total time=   3.6s\n"
     ]
    },
    {
     "name": "stderr",
     "output_type": "stream",
     "text": [
      "/opt/anaconda3/envs/berkeley/lib/python3.12/site-packages/sklearn/linear_model/_coordinate_descent.py:697: ConvergenceWarning: Objective did not converge. You might want to increase the number of iterations, check the scale of the features or consider increasing regularisation. Duality gap: 1.266e+01, tolerance: 1.069e+01\n",
      "  model = cd_fast.enet_coordinate_descent(\n"
     ]
    },
    {
     "name": "stdout",
     "output_type": "stream",
     "text": [
      "[CV] END feature_selector__estimator__alpha=0.01, preprocessor__poly_scaler__poly__degree=3; total time=   4.1s\n"
     ]
    },
    {
     "name": "stderr",
     "output_type": "stream",
     "text": [
      "/opt/anaconda3/envs/berkeley/lib/python3.12/site-packages/sklearn/linear_model/_coordinate_descent.py:697: ConvergenceWarning: Objective did not converge. You might want to increase the number of iterations, check the scale of the features or consider increasing regularisation. Duality gap: 1.235e+01, tolerance: 1.080e+01\n",
      "  model = cd_fast.enet_coordinate_descent(\n"
     ]
    },
    {
     "name": "stdout",
     "output_type": "stream",
     "text": [
      "[CV] END feature_selector__estimator__alpha=0.01, preprocessor__poly_scaler__poly__degree=3; total time=   3.8s\n"
     ]
    },
    {
     "name": "stderr",
     "output_type": "stream",
     "text": [
      "/opt/anaconda3/envs/berkeley/lib/python3.12/site-packages/sklearn/linear_model/_coordinate_descent.py:697: ConvergenceWarning: Objective did not converge. You might want to increase the number of iterations, check the scale of the features or consider increasing regularisation. Duality gap: 1.549e+01, tolerance: 1.077e+01\n",
      "  model = cd_fast.enet_coordinate_descent(\n"
     ]
    },
    {
     "name": "stdout",
     "output_type": "stream",
     "text": [
      "[CV] END feature_selector__estimator__alpha=0.01, preprocessor__poly_scaler__poly__degree=5; total time=   4.7s\n",
      "[CV] END feature_selector__estimator__alpha=0.01, preprocessor__poly_scaler__poly__degree=5; total time=   4.1s\n"
     ]
    },
    {
     "name": "stderr",
     "output_type": "stream",
     "text": [
      "/opt/anaconda3/envs/berkeley/lib/python3.12/site-packages/sklearn/linear_model/_coordinate_descent.py:697: ConvergenceWarning: Objective did not converge. You might want to increase the number of iterations, check the scale of the features or consider increasing regularisation. Duality gap: 1.518e+01, tolerance: 1.096e+01\n",
      "  model = cd_fast.enet_coordinate_descent(\n"
     ]
    },
    {
     "name": "stdout",
     "output_type": "stream",
     "text": [
      "[CV] END feature_selector__estimator__alpha=0.01, preprocessor__poly_scaler__poly__degree=5; total time=   5.3s\n",
      "[CV] END feature_selector__estimator__alpha=0.01, preprocessor__poly_scaler__poly__degree=5; total time=   5.2s\n",
      "[CV] END feature_selector__estimator__alpha=0.01, preprocessor__poly_scaler__poly__degree=5; total time=   4.5s\n"
     ]
    },
    {
     "name": "stderr",
     "output_type": "stream",
     "text": [
      "/opt/anaconda3/envs/berkeley/lib/python3.12/site-packages/sklearn/linear_model/_coordinate_descent.py:697: ConvergenceWarning: Objective did not converge. You might want to increase the number of iterations, check the scale of the features or consider increasing regularisation. Duality gap: 1.833e+01, tolerance: 1.077e+01\n",
      "  model = cd_fast.enet_coordinate_descent(\n"
     ]
    },
    {
     "name": "stdout",
     "output_type": "stream",
     "text": [
      "[CV] END feature_selector__estimator__alpha=0.01, preprocessor__poly_scaler__poly__degree=7; total time=   6.0s\n"
     ]
    },
    {
     "name": "stderr",
     "output_type": "stream",
     "text": [
      "/opt/anaconda3/envs/berkeley/lib/python3.12/site-packages/sklearn/linear_model/_coordinate_descent.py:697: ConvergenceWarning: Objective did not converge. You might want to increase the number of iterations, check the scale of the features or consider increasing regularisation. Duality gap: 1.868e+01, tolerance: 1.089e+01\n",
      "  model = cd_fast.enet_coordinate_descent(\n"
     ]
    },
    {
     "name": "stdout",
     "output_type": "stream",
     "text": [
      "[CV] END feature_selector__estimator__alpha=0.01, preprocessor__poly_scaler__poly__degree=7; total time=   5.8s\n"
     ]
    },
    {
     "name": "stderr",
     "output_type": "stream",
     "text": [
      "/opt/anaconda3/envs/berkeley/lib/python3.12/site-packages/sklearn/linear_model/_coordinate_descent.py:697: ConvergenceWarning: Objective did not converge. You might want to increase the number of iterations, check the scale of the features or consider increasing regularisation. Duality gap: 1.922e+01, tolerance: 1.096e+01\n",
      "  model = cd_fast.enet_coordinate_descent(\n"
     ]
    },
    {
     "name": "stdout",
     "output_type": "stream",
     "text": [
      "[CV] END feature_selector__estimator__alpha=0.01, preprocessor__poly_scaler__poly__degree=7; total time=   6.5s\n"
     ]
    },
    {
     "name": "stderr",
     "output_type": "stream",
     "text": [
      "/opt/anaconda3/envs/berkeley/lib/python3.12/site-packages/sklearn/linear_model/_coordinate_descent.py:697: ConvergenceWarning: Objective did not converge. You might want to increase the number of iterations, check the scale of the features or consider increasing regularisation. Duality gap: 1.793e+01, tolerance: 1.069e+01\n",
      "  model = cd_fast.enet_coordinate_descent(\n"
     ]
    },
    {
     "name": "stdout",
     "output_type": "stream",
     "text": [
      "[CV] END feature_selector__estimator__alpha=0.01, preprocessor__poly_scaler__poly__degree=7; total time=   6.5s\n"
     ]
    },
    {
     "name": "stderr",
     "output_type": "stream",
     "text": [
      "/opt/anaconda3/envs/berkeley/lib/python3.12/site-packages/sklearn/linear_model/_coordinate_descent.py:697: ConvergenceWarning: Objective did not converge. You might want to increase the number of iterations, check the scale of the features or consider increasing regularisation. Duality gap: 2.494e+01, tolerance: 1.080e+01\n",
      "  model = cd_fast.enet_coordinate_descent(\n"
     ]
    },
    {
     "name": "stdout",
     "output_type": "stream",
     "text": [
      "[CV] END feature_selector__estimator__alpha=0.01, preprocessor__poly_scaler__poly__degree=7; total time=   5.6s\n",
      "[CV] END feature_selector__estimator__alpha=0.1, preprocessor__poly_scaler__poly__degree=2; total time=   0.4s\n",
      "[CV] END feature_selector__estimator__alpha=0.1, preprocessor__poly_scaler__poly__degree=2; total time=   0.4s\n",
      "[CV] END feature_selector__estimator__alpha=0.1, preprocessor__poly_scaler__poly__degree=2; total time=   0.4s\n",
      "[CV] END feature_selector__estimator__alpha=0.1, preprocessor__poly_scaler__poly__degree=2; total time=   0.3s\n",
      "[CV] END feature_selector__estimator__alpha=0.1, preprocessor__poly_scaler__poly__degree=2; total time=   0.5s\n",
      "[CV] END feature_selector__estimator__alpha=0.1, preprocessor__poly_scaler__poly__degree=3; total time=   0.2s\n",
      "[CV] END feature_selector__estimator__alpha=0.1, preprocessor__poly_scaler__poly__degree=3; total time=   0.2s\n",
      "[CV] END feature_selector__estimator__alpha=0.1, preprocessor__poly_scaler__poly__degree=3; total time=   0.3s\n",
      "[CV] END feature_selector__estimator__alpha=0.1, preprocessor__poly_scaler__poly__degree=3; total time=   0.4s\n",
      "[CV] END feature_selector__estimator__alpha=0.1, preprocessor__poly_scaler__poly__degree=3; total time=   0.6s\n",
      "[CV] END feature_selector__estimator__alpha=0.1, preprocessor__poly_scaler__poly__degree=5; total time=   0.6s\n",
      "[CV] END feature_selector__estimator__alpha=0.1, preprocessor__poly_scaler__poly__degree=5; total time=   0.5s\n",
      "[CV] END feature_selector__estimator__alpha=0.1, preprocessor__poly_scaler__poly__degree=5; total time=   0.4s\n",
      "[CV] END feature_selector__estimator__alpha=0.1, preprocessor__poly_scaler__poly__degree=5; total time=   0.5s\n",
      "[CV] END feature_selector__estimator__alpha=0.1, preprocessor__poly_scaler__poly__degree=5; total time=   0.4s\n",
      "[CV] END feature_selector__estimator__alpha=0.1, preprocessor__poly_scaler__poly__degree=7; total time=   0.6s\n",
      "[CV] END feature_selector__estimator__alpha=0.1, preprocessor__poly_scaler__poly__degree=7; total time=   0.6s\n",
      "[CV] END feature_selector__estimator__alpha=0.1, preprocessor__poly_scaler__poly__degree=7; total time=   0.5s\n",
      "[CV] END feature_selector__estimator__alpha=0.1, preprocessor__poly_scaler__poly__degree=7; total time=   0.7s\n",
      "[CV] END feature_selector__estimator__alpha=0.1, preprocessor__poly_scaler__poly__degree=7; total time=   0.5s\n",
      "[CV] END feature_selector__estimator__alpha=1, preprocessor__poly_scaler__poly__degree=2; total time=   0.1s\n",
      "[CV] END feature_selector__estimator__alpha=1, preprocessor__poly_scaler__poly__degree=2; total time=   0.1s\n"
     ]
    },
    {
     "name": "stderr",
     "output_type": "stream",
     "text": [
      "/opt/anaconda3/envs/berkeley/lib/python3.12/site-packages/sklearn/feature_selection/_base.py:116: UserWarning: No features were selected: either the data is too noisy or the selection test too strict.\n",
      "  warnings.warn(\n",
      "/opt/anaconda3/envs/berkeley/lib/python3.12/site-packages/sklearn/feature_selection/_base.py:116: UserWarning: No features were selected: either the data is too noisy or the selection test too strict.\n",
      "  warnings.warn(\n",
      "/opt/anaconda3/envs/berkeley/lib/python3.12/site-packages/sklearn/feature_selection/_base.py:116: UserWarning: No features were selected: either the data is too noisy or the selection test too strict.\n",
      "  warnings.warn(\n",
      "/opt/anaconda3/envs/berkeley/lib/python3.12/site-packages/sklearn/feature_selection/_base.py:116: UserWarning: No features were selected: either the data is too noisy or the selection test too strict.\n",
      "  warnings.warn(\n"
     ]
    },
    {
     "name": "stdout",
     "output_type": "stream",
     "text": [
      "[CV] END feature_selector__estimator__alpha=1, preprocessor__poly_scaler__poly__degree=2; total time=   0.1s\n",
      "[CV] END feature_selector__estimator__alpha=1, preprocessor__poly_scaler__poly__degree=2; total time=   0.1s\n"
     ]
    },
    {
     "name": "stderr",
     "output_type": "stream",
     "text": [
      "/opt/anaconda3/envs/berkeley/lib/python3.12/site-packages/sklearn/feature_selection/_base.py:116: UserWarning: No features were selected: either the data is too noisy or the selection test too strict.\n",
      "  warnings.warn(\n",
      "/opt/anaconda3/envs/berkeley/lib/python3.12/site-packages/sklearn/feature_selection/_base.py:116: UserWarning: No features were selected: either the data is too noisy or the selection test too strict.\n",
      "  warnings.warn(\n"
     ]
    },
    {
     "name": "stdout",
     "output_type": "stream",
     "text": [
      "[CV] END feature_selector__estimator__alpha=1, preprocessor__poly_scaler__poly__degree=2; total time=   0.1s\n",
      "[CV] END feature_selector__estimator__alpha=1, preprocessor__poly_scaler__poly__degree=3; total time=   0.1s\n"
     ]
    },
    {
     "name": "stderr",
     "output_type": "stream",
     "text": [
      "/opt/anaconda3/envs/berkeley/lib/python3.12/site-packages/sklearn/feature_selection/_base.py:116: UserWarning: No features were selected: either the data is too noisy or the selection test too strict.\n",
      "  warnings.warn(\n",
      "/opt/anaconda3/envs/berkeley/lib/python3.12/site-packages/sklearn/feature_selection/_base.py:116: UserWarning: No features were selected: either the data is too noisy or the selection test too strict.\n",
      "  warnings.warn(\n"
     ]
    },
    {
     "name": "stdout",
     "output_type": "stream",
     "text": [
      "[CV] END feature_selector__estimator__alpha=1, preprocessor__poly_scaler__poly__degree=3; total time=   0.2s\n",
      "[CV] END feature_selector__estimator__alpha=1, preprocessor__poly_scaler__poly__degree=3; total time=   0.2s\n"
     ]
    },
    {
     "name": "stderr",
     "output_type": "stream",
     "text": [
      "/opt/anaconda3/envs/berkeley/lib/python3.12/site-packages/sklearn/feature_selection/_base.py:116: UserWarning: No features were selected: either the data is too noisy or the selection test too strict.\n",
      "  warnings.warn(\n",
      "/opt/anaconda3/envs/berkeley/lib/python3.12/site-packages/sklearn/feature_selection/_base.py:116: UserWarning: No features were selected: either the data is too noisy or the selection test too strict.\n",
      "  warnings.warn(\n"
     ]
    },
    {
     "name": "stdout",
     "output_type": "stream",
     "text": [
      "[CV] END feature_selector__estimator__alpha=1, preprocessor__poly_scaler__poly__degree=3; total time=   0.2s\n",
      "[CV] END feature_selector__estimator__alpha=1, preprocessor__poly_scaler__poly__degree=3; total time=   0.1s\n"
     ]
    },
    {
     "name": "stderr",
     "output_type": "stream",
     "text": [
      "/opt/anaconda3/envs/berkeley/lib/python3.12/site-packages/sklearn/feature_selection/_base.py:116: UserWarning: No features were selected: either the data is too noisy or the selection test too strict.\n",
      "  warnings.warn(\n",
      "/opt/anaconda3/envs/berkeley/lib/python3.12/site-packages/sklearn/feature_selection/_base.py:116: UserWarning: No features were selected: either the data is too noisy or the selection test too strict.\n",
      "  warnings.warn(\n"
     ]
    },
    {
     "name": "stdout",
     "output_type": "stream",
     "text": [
      "[CV] END feature_selector__estimator__alpha=1, preprocessor__poly_scaler__poly__degree=5; total time=   0.2s\n",
      "[CV] END feature_selector__estimator__alpha=1, preprocessor__poly_scaler__poly__degree=5; total time=   0.2s\n"
     ]
    },
    {
     "name": "stderr",
     "output_type": "stream",
     "text": [
      "/opt/anaconda3/envs/berkeley/lib/python3.12/site-packages/sklearn/feature_selection/_base.py:116: UserWarning: No features were selected: either the data is too noisy or the selection test too strict.\n",
      "  warnings.warn(\n",
      "/opt/anaconda3/envs/berkeley/lib/python3.12/site-packages/sklearn/feature_selection/_base.py:116: UserWarning: No features were selected: either the data is too noisy or the selection test too strict.\n",
      "  warnings.warn(\n"
     ]
    },
    {
     "name": "stdout",
     "output_type": "stream",
     "text": [
      "[CV] END feature_selector__estimator__alpha=1, preprocessor__poly_scaler__poly__degree=5; total time=   0.1s\n",
      "[CV] END feature_selector__estimator__alpha=1, preprocessor__poly_scaler__poly__degree=5; total time=   0.2s\n"
     ]
    },
    {
     "name": "stderr",
     "output_type": "stream",
     "text": [
      "/opt/anaconda3/envs/berkeley/lib/python3.12/site-packages/sklearn/feature_selection/_base.py:116: UserWarning: No features were selected: either the data is too noisy or the selection test too strict.\n",
      "  warnings.warn(\n",
      "/opt/anaconda3/envs/berkeley/lib/python3.12/site-packages/sklearn/feature_selection/_base.py:116: UserWarning: No features were selected: either the data is too noisy or the selection test too strict.\n",
      "  warnings.warn(\n"
     ]
    },
    {
     "name": "stdout",
     "output_type": "stream",
     "text": [
      "[CV] END feature_selector__estimator__alpha=1, preprocessor__poly_scaler__poly__degree=5; total time=   0.2s\n",
      "[CV] END feature_selector__estimator__alpha=1, preprocessor__poly_scaler__poly__degree=7; total time=   0.2s\n"
     ]
    },
    {
     "name": "stderr",
     "output_type": "stream",
     "text": [
      "/opt/anaconda3/envs/berkeley/lib/python3.12/site-packages/sklearn/feature_selection/_base.py:116: UserWarning: No features were selected: either the data is too noisy or the selection test too strict.\n",
      "  warnings.warn(\n",
      "/opt/anaconda3/envs/berkeley/lib/python3.12/site-packages/sklearn/feature_selection/_base.py:116: UserWarning: No features were selected: either the data is too noisy or the selection test too strict.\n",
      "  warnings.warn(\n"
     ]
    },
    {
     "name": "stdout",
     "output_type": "stream",
     "text": [
      "[CV] END feature_selector__estimator__alpha=1, preprocessor__poly_scaler__poly__degree=7; total time=   0.2s\n",
      "[CV] END feature_selector__estimator__alpha=1, preprocessor__poly_scaler__poly__degree=7; total time=   0.2s\n"
     ]
    },
    {
     "name": "stderr",
     "output_type": "stream",
     "text": [
      "/opt/anaconda3/envs/berkeley/lib/python3.12/site-packages/sklearn/feature_selection/_base.py:116: UserWarning: No features were selected: either the data is too noisy or the selection test too strict.\n",
      "  warnings.warn(\n",
      "/opt/anaconda3/envs/berkeley/lib/python3.12/site-packages/sklearn/feature_selection/_base.py:116: UserWarning: No features were selected: either the data is too noisy or the selection test too strict.\n",
      "  warnings.warn(\n"
     ]
    },
    {
     "name": "stdout",
     "output_type": "stream",
     "text": [
      "[CV] END feature_selector__estimator__alpha=1, preprocessor__poly_scaler__poly__degree=7; total time=   0.2s\n",
      "[CV] END feature_selector__estimator__alpha=1, preprocessor__poly_scaler__poly__degree=7; total time=   0.2s\n"
     ]
    },
    {
     "name": "stderr",
     "output_type": "stream",
     "text": [
      "/opt/anaconda3/envs/berkeley/lib/python3.12/site-packages/sklearn/feature_selection/_base.py:116: UserWarning: No features were selected: either the data is too noisy or the selection test too strict.\n",
      "  warnings.warn(\n",
      "/opt/anaconda3/envs/berkeley/lib/python3.12/site-packages/sklearn/feature_selection/_base.py:116: UserWarning: No features were selected: either the data is too noisy or the selection test too strict.\n",
      "  warnings.warn(\n"
     ]
    },
    {
     "name": "stdout",
     "output_type": "stream",
     "text": [
      "[CV] END feature_selector__estimator__alpha=10, preprocessor__poly_scaler__poly__degree=2; total time=   0.1s\n",
      "[CV] END feature_selector__estimator__alpha=10, preprocessor__poly_scaler__poly__degree=2; total time=   0.1s\n"
     ]
    },
    {
     "name": "stderr",
     "output_type": "stream",
     "text": [
      "/opt/anaconda3/envs/berkeley/lib/python3.12/site-packages/sklearn/feature_selection/_base.py:116: UserWarning: No features were selected: either the data is too noisy or the selection test too strict.\n",
      "  warnings.warn(\n",
      "/opt/anaconda3/envs/berkeley/lib/python3.12/site-packages/sklearn/feature_selection/_base.py:116: UserWarning: No features were selected: either the data is too noisy or the selection test too strict.\n",
      "  warnings.warn(\n"
     ]
    },
    {
     "name": "stdout",
     "output_type": "stream",
     "text": [
      "[CV] END feature_selector__estimator__alpha=10, preprocessor__poly_scaler__poly__degree=2; total time=   0.2s\n",
      "[CV] END feature_selector__estimator__alpha=10, preprocessor__poly_scaler__poly__degree=2; total time=   0.1s\n"
     ]
    },
    {
     "name": "stderr",
     "output_type": "stream",
     "text": [
      "/opt/anaconda3/envs/berkeley/lib/python3.12/site-packages/sklearn/feature_selection/_base.py:116: UserWarning: No features were selected: either the data is too noisy or the selection test too strict.\n",
      "  warnings.warn(\n",
      "/opt/anaconda3/envs/berkeley/lib/python3.12/site-packages/sklearn/feature_selection/_base.py:116: UserWarning: No features were selected: either the data is too noisy or the selection test too strict.\n",
      "  warnings.warn(\n"
     ]
    },
    {
     "name": "stdout",
     "output_type": "stream",
     "text": [
      "[CV] END feature_selector__estimator__alpha=10, preprocessor__poly_scaler__poly__degree=2; total time=   0.1s\n",
      "[CV] END feature_selector__estimator__alpha=10, preprocessor__poly_scaler__poly__degree=3; total time=   0.1s\n"
     ]
    },
    {
     "name": "stderr",
     "output_type": "stream",
     "text": [
      "/opt/anaconda3/envs/berkeley/lib/python3.12/site-packages/sklearn/feature_selection/_base.py:116: UserWarning: No features were selected: either the data is too noisy or the selection test too strict.\n",
      "  warnings.warn(\n",
      "/opt/anaconda3/envs/berkeley/lib/python3.12/site-packages/sklearn/feature_selection/_base.py:116: UserWarning: No features were selected: either the data is too noisy or the selection test too strict.\n",
      "  warnings.warn(\n"
     ]
    },
    {
     "name": "stdout",
     "output_type": "stream",
     "text": [
      "[CV] END feature_selector__estimator__alpha=10, preprocessor__poly_scaler__poly__degree=3; total time=   0.2s\n",
      "[CV] END feature_selector__estimator__alpha=10, preprocessor__poly_scaler__poly__degree=3; total time=   0.1s\n"
     ]
    },
    {
     "name": "stderr",
     "output_type": "stream",
     "text": [
      "/opt/anaconda3/envs/berkeley/lib/python3.12/site-packages/sklearn/feature_selection/_base.py:116: UserWarning: No features were selected: either the data is too noisy or the selection test too strict.\n",
      "  warnings.warn(\n",
      "/opt/anaconda3/envs/berkeley/lib/python3.12/site-packages/sklearn/feature_selection/_base.py:116: UserWarning: No features were selected: either the data is too noisy or the selection test too strict.\n",
      "  warnings.warn(\n"
     ]
    },
    {
     "name": "stdout",
     "output_type": "stream",
     "text": [
      "[CV] END feature_selector__estimator__alpha=10, preprocessor__poly_scaler__poly__degree=3; total time=   0.1s\n",
      "[CV] END feature_selector__estimator__alpha=10, preprocessor__poly_scaler__poly__degree=3; total time=   0.1s\n"
     ]
    },
    {
     "name": "stderr",
     "output_type": "stream",
     "text": [
      "/opt/anaconda3/envs/berkeley/lib/python3.12/site-packages/sklearn/feature_selection/_base.py:116: UserWarning: No features were selected: either the data is too noisy or the selection test too strict.\n",
      "  warnings.warn(\n",
      "/opt/anaconda3/envs/berkeley/lib/python3.12/site-packages/sklearn/feature_selection/_base.py:116: UserWarning: No features were selected: either the data is too noisy or the selection test too strict.\n",
      "  warnings.warn(\n"
     ]
    },
    {
     "name": "stdout",
     "output_type": "stream",
     "text": [
      "[CV] END feature_selector__estimator__alpha=10, preprocessor__poly_scaler__poly__degree=5; total time=   0.1s\n",
      "[CV] END feature_selector__estimator__alpha=10, preprocessor__poly_scaler__poly__degree=5; total time=   0.1s\n"
     ]
    },
    {
     "name": "stderr",
     "output_type": "stream",
     "text": [
      "/opt/anaconda3/envs/berkeley/lib/python3.12/site-packages/sklearn/feature_selection/_base.py:116: UserWarning: No features were selected: either the data is too noisy or the selection test too strict.\n",
      "  warnings.warn(\n",
      "/opt/anaconda3/envs/berkeley/lib/python3.12/site-packages/sklearn/feature_selection/_base.py:116: UserWarning: No features were selected: either the data is too noisy or the selection test too strict.\n",
      "  warnings.warn(\n"
     ]
    },
    {
     "name": "stdout",
     "output_type": "stream",
     "text": [
      "[CV] END feature_selector__estimator__alpha=10, preprocessor__poly_scaler__poly__degree=5; total time=   0.2s\n",
      "[CV] END feature_selector__estimator__alpha=10, preprocessor__poly_scaler__poly__degree=5; total time=   0.1s\n"
     ]
    },
    {
     "name": "stderr",
     "output_type": "stream",
     "text": [
      "/opt/anaconda3/envs/berkeley/lib/python3.12/site-packages/sklearn/feature_selection/_base.py:116: UserWarning: No features were selected: either the data is too noisy or the selection test too strict.\n",
      "  warnings.warn(\n",
      "/opt/anaconda3/envs/berkeley/lib/python3.12/site-packages/sklearn/feature_selection/_base.py:116: UserWarning: No features were selected: either the data is too noisy or the selection test too strict.\n",
      "  warnings.warn(\n"
     ]
    },
    {
     "name": "stdout",
     "output_type": "stream",
     "text": [
      "[CV] END feature_selector__estimator__alpha=10, preprocessor__poly_scaler__poly__degree=5; total time=   0.2s\n",
      "[CV] END feature_selector__estimator__alpha=10, preprocessor__poly_scaler__poly__degree=7; total time=   0.2s\n"
     ]
    },
    {
     "name": "stderr",
     "output_type": "stream",
     "text": [
      "/opt/anaconda3/envs/berkeley/lib/python3.12/site-packages/sklearn/feature_selection/_base.py:116: UserWarning: No features were selected: either the data is too noisy or the selection test too strict.\n",
      "  warnings.warn(\n",
      "/opt/anaconda3/envs/berkeley/lib/python3.12/site-packages/sklearn/feature_selection/_base.py:116: UserWarning: No features were selected: either the data is too noisy or the selection test too strict.\n",
      "  warnings.warn(\n"
     ]
    },
    {
     "name": "stdout",
     "output_type": "stream",
     "text": [
      "[CV] END feature_selector__estimator__alpha=10, preprocessor__poly_scaler__poly__degree=7; total time=   0.2s\n",
      "[CV] END feature_selector__estimator__alpha=10, preprocessor__poly_scaler__poly__degree=7; total time=   0.2s\n"
     ]
    },
    {
     "name": "stderr",
     "output_type": "stream",
     "text": [
      "/opt/anaconda3/envs/berkeley/lib/python3.12/site-packages/sklearn/feature_selection/_base.py:116: UserWarning: No features were selected: either the data is too noisy or the selection test too strict.\n",
      "  warnings.warn(\n"
     ]
    },
    {
     "name": "stdout",
     "output_type": "stream",
     "text": [
      "[CV] END feature_selector__estimator__alpha=10, preprocessor__poly_scaler__poly__degree=7; total time=   0.2s\n"
     ]
    },
    {
     "name": "stderr",
     "output_type": "stream",
     "text": [
      "/opt/anaconda3/envs/berkeley/lib/python3.12/site-packages/sklearn/feature_selection/_base.py:116: UserWarning: No features were selected: either the data is too noisy or the selection test too strict.\n",
      "  warnings.warn(\n",
      "/opt/anaconda3/envs/berkeley/lib/python3.12/site-packages/sklearn/model_selection/_validation.py:540: FitFailedWarning: \n",
      "40 fits failed out of a total of 100.\n",
      "The score on these train-test partitions for these parameters will be set to nan.\n",
      "If these failures are not expected, you can try to debug them by setting error_score='raise'.\n",
      "\n",
      "Below are more details about the failures:\n",
      "--------------------------------------------------------------------------------\n",
      "32 fits failed with the following error:\n",
      "Traceback (most recent call last):\n",
      "  File \"/opt/anaconda3/envs/berkeley/lib/python3.12/site-packages/sklearn/model_selection/_validation.py\", line 888, in _fit_and_score\n",
      "    estimator.fit(X_train, y_train, **fit_params)\n",
      "  File \"/opt/anaconda3/envs/berkeley/lib/python3.12/site-packages/sklearn/base.py\", line 1473, in wrapper\n",
      "    return fit_method(estimator, *args, **kwargs)\n",
      "           ^^^^^^^^^^^^^^^^^^^^^^^^^^^^^^^^^^^^^^\n",
      "  File \"/opt/anaconda3/envs/berkeley/lib/python3.12/site-packages/sklearn/pipeline.py\", line 473, in fit\n",
      "    self._final_estimator.fit(Xt, y, **last_step_params[\"fit\"])\n",
      "  File \"/opt/anaconda3/envs/berkeley/lib/python3.12/site-packages/sklearn/base.py\", line 1473, in wrapper\n",
      "    return fit_method(estimator, *args, **kwargs)\n",
      "           ^^^^^^^^^^^^^^^^^^^^^^^^^^^^^^^^^^^^^^\n",
      "  File \"/opt/anaconda3/envs/berkeley/lib/python3.12/site-packages/sklearn/linear_model/_base.py\", line 609, in fit\n",
      "    X, y = self._validate_data(\n",
      "           ^^^^^^^^^^^^^^^^^^^^\n",
      "  File \"/opt/anaconda3/envs/berkeley/lib/python3.12/site-packages/sklearn/base.py\", line 650, in _validate_data\n",
      "    X, y = check_X_y(X, y, **check_params)\n",
      "           ^^^^^^^^^^^^^^^^^^^^^^^^^^^^^^^\n",
      "  File \"/opt/anaconda3/envs/berkeley/lib/python3.12/site-packages/sklearn/utils/validation.py\", line 1301, in check_X_y\n",
      "    X = check_array(\n",
      "        ^^^^^^^^^^^^\n",
      "  File \"/opt/anaconda3/envs/berkeley/lib/python3.12/site-packages/sklearn/utils/validation.py\", line 1096, in check_array\n",
      "    raise ValueError(\n",
      "ValueError: Found array with 0 feature(s) (shape=(75943, 0)) while a minimum of 1 is required by LinearRegression.\n",
      "\n",
      "--------------------------------------------------------------------------------\n",
      "8 fits failed with the following error:\n",
      "Traceback (most recent call last):\n",
      "  File \"/opt/anaconda3/envs/berkeley/lib/python3.12/site-packages/sklearn/model_selection/_validation.py\", line 888, in _fit_and_score\n",
      "    estimator.fit(X_train, y_train, **fit_params)\n",
      "  File \"/opt/anaconda3/envs/berkeley/lib/python3.12/site-packages/sklearn/base.py\", line 1473, in wrapper\n",
      "    return fit_method(estimator, *args, **kwargs)\n",
      "           ^^^^^^^^^^^^^^^^^^^^^^^^^^^^^^^^^^^^^^\n",
      "  File \"/opt/anaconda3/envs/berkeley/lib/python3.12/site-packages/sklearn/pipeline.py\", line 473, in fit\n",
      "    self._final_estimator.fit(Xt, y, **last_step_params[\"fit\"])\n",
      "  File \"/opt/anaconda3/envs/berkeley/lib/python3.12/site-packages/sklearn/base.py\", line 1473, in wrapper\n",
      "    return fit_method(estimator, *args, **kwargs)\n",
      "           ^^^^^^^^^^^^^^^^^^^^^^^^^^^^^^^^^^^^^^\n",
      "  File \"/opt/anaconda3/envs/berkeley/lib/python3.12/site-packages/sklearn/linear_model/_base.py\", line 609, in fit\n",
      "    X, y = self._validate_data(\n",
      "           ^^^^^^^^^^^^^^^^^^^^\n",
      "  File \"/opt/anaconda3/envs/berkeley/lib/python3.12/site-packages/sklearn/base.py\", line 650, in _validate_data\n",
      "    X, y = check_X_y(X, y, **check_params)\n",
      "           ^^^^^^^^^^^^^^^^^^^^^^^^^^^^^^^\n",
      "  File \"/opt/anaconda3/envs/berkeley/lib/python3.12/site-packages/sklearn/utils/validation.py\", line 1301, in check_X_y\n",
      "    X = check_array(\n",
      "        ^^^^^^^^^^^^\n",
      "  File \"/opt/anaconda3/envs/berkeley/lib/python3.12/site-packages/sklearn/utils/validation.py\", line 1096, in check_array\n",
      "    raise ValueError(\n",
      "ValueError: Found array with 0 feature(s) (shape=(75944, 0)) while a minimum of 1 is required by LinearRegression.\n",
      "\n",
      "  warnings.warn(some_fits_failed_message, FitFailedWarning)\n",
      "/opt/anaconda3/envs/berkeley/lib/python3.12/site-packages/sklearn/model_selection/_search.py:1102: UserWarning: One or more of the test scores are non-finite: [-0.90475036 -0.88989631 -0.8863926  -0.88202637 -0.91900329 -0.91046517\n",
      " -0.90698302 -0.90011879 -1.07667061 -1.06143936 -1.03940647 -1.03940647\n",
      "         nan         nan         nan         nan         nan         nan\n",
      "         nan         nan]\n",
      "  warnings.warn(\n"
     ]
    },
    {
     "name": "stdout",
     "output_type": "stream",
     "text": [
      "[CV] END feature_selector__estimator__alpha=10, preprocessor__poly_scaler__poly__degree=7; total time=   0.2s\n"
     ]
    },
    {
     "name": "stderr",
     "output_type": "stream",
     "text": [
      "/opt/anaconda3/envs/berkeley/lib/python3.12/site-packages/sklearn/linear_model/_coordinate_descent.py:697: ConvergenceWarning: Objective did not converge. You might want to increase the number of iterations, check the scale of the features or consider increasing regularisation. Duality gap: 1.939e+02, tolerance: 1.353e+01\n",
      "  model = cd_fast.enet_coordinate_descent(\n"
     ]
    },
    {
     "name": "stdout",
     "output_type": "stream",
     "text": [
      "Best Parameters: {'feature_selector__estimator__alpha': 0.001, 'preprocessor__poly_scaler__poly__degree': 7}\n",
      "Train MSE: 0.8792865219289346\n",
      "Test MSE: 0.8537694696719367\n"
     ]
    }
   ],
   "source": [
    "num_attribs = ['age', 'log_odometer']\n",
    "ohe_attribs = ['cyl_category', 'fuel', 'transmission', 'type']\n",
    "\n",
    "# Preprocessing setup\n",
    "preprocessor = ColumnTransformer(\n",
    "    transformers=[\n",
    "        ('poly_scaler', Pipeline([\n",
    "            ('poly', PolynomialFeatures(degree=3, include_bias=False)),\n",
    "            ('scaler', StandardScaler())\n",
    "        ]), num_attribs),\n",
    "        ('ohe', OneHotEncoder(drop='if_binary'), ohe_attribs),\n",
    "        ('ordinal', OrdinalEncoder(categories=[['fair', 'good', 'excellent', 'like new']]), ['condition'])\n",
    "    ]\n",
    ")\n",
    "\n",
    "# Final pipeline\n",
    "pipe = Pipeline([\n",
    "    ('preprocessor', preprocessor),\n",
    "    ('feature_selector', SelectFromModel(Lasso())), \n",
    "    ('regressor', LinearRegression())\n",
    "])\n",
    "\n",
    "# Define the parameter grid\n",
    "param_grid = {\n",
    "    'feature_selector__estimator__alpha': [0.001, 0.01, 0.1, 1, 10],  # Regularization strength for Lasso\n",
    "    'preprocessor__poly_scaler__poly__degree': [2, 3, 5, 7],          # Degree of polynomial features\n",
    "}\n",
    "\n",
    "# Setup GridSearchCV\n",
    "grid_search = GridSearchCV(pipe, param_grid, cv=5, scoring='neg_mean_squared_error', verbose=2)\n",
    "\n",
    "# Fit GridSearchCV\n",
    "grid_search.fit(X_train, y_train)\n",
    "\n",
    "# Retrieve the best parameters and model\n",
    "best_params = grid_search.best_params_\n",
    "best_model = grid_search.best_estimator_\n",
    "\n",
    "# Make predictions using the optimized pipeline\n",
    "train_preds = best_model.predict(X_train)\n",
    "test_preds = best_model.predict(X_test)\n",
    "\n",
    "# Calculate MSE\n",
    "train_mses = mean_squared_error(y_train, train_preds)\n",
    "test_mses = mean_squared_error(y_test, test_preds)\n",
    "\n",
    "# Output results\n",
    "print(\"Best Parameters:\", best_params)\n",
    "print(f\"Train MSE: {train_mses}\")\n",
    "print(f\"Test MSE: {test_mses}\")\n",
    "\n",
    "#pipe.fit(X_train, y_train)\n",
    "\n",
    "#train_preds = pipe.predict(X_train)\n",
    "#test_preds = pipe.predict(X_test)\n",
    "    \n",
    "# Calculate MSE for both train and test predictions\n",
    "#train_mses = mean_squared_error(y_train, train_preds)\n",
    "#test_mses = mean_squared_error(y_test, test_preds)\n",
    "\n",
    "# Output MSE results\n",
    "#print(f\"Train MSE: {train_mses}\")\n",
    "#print(f\"Test MSE: {test_mses}\")"
   ]
  },
  {
   "cell_type": "markdown",
   "metadata": {},
   "source": [
    "## GridSearchCV Linear Regression with Polynomial Features and Ridge"
   ]
  },
  {
   "cell_type": "code",
   "execution_count": 81,
   "metadata": {},
   "outputs": [
    {
     "name": "stdout",
     "output_type": "stream",
     "text": [
      "Best parameters: {'preprocessor__poly_scaler__poly__degree': 6, 'regressor__alpha': 0.1}\n",
      "Train MSE: 0.8746914759583171\n",
      "Test MSE: 0.8494672967874106\n"
     ]
    }
   ],
   "source": [
    "num_attribs = ['age', 'log_odometer']\n",
    "ohe_attribs = ['cyl_category', 'fuel', 'transmission', 'type']\n",
    "\n",
    "# Preprocessing setup\n",
    "preprocessor = ColumnTransformer(\n",
    "    transformers=[\n",
    "        ('poly_scaler', Pipeline([\n",
    "            ('poly', PolynomialFeatures(degree=3, include_bias=False)),\n",
    "            ('scaler', StandardScaler())\n",
    "        ]), num_attribs),\n",
    "        ('ohe', OneHotEncoder(drop='if_binary'), ohe_attribs),\n",
    "        ('ordinal', OrdinalEncoder(categories=[['fair', 'good', 'excellent', 'like new']]), ['condition'])\n",
    "    ]\n",
    ")\n",
    "\n",
    "# Final pipeline with Ridge\n",
    "pipe2 = Pipeline([\n",
    "    ('preprocessor', preprocessor),\n",
    "    ('regressor', Ridge())\n",
    "])\n",
    "\n",
    "# Define parameter grid for GridSearchCV\n",
    "param_grid = {\n",
    "    'preprocessor__poly_scaler__poly__degree': [2, 3, 4, 5, 6, 7],\n",
    "    'regressor__alpha': [0.1, 1, 10, 100]  # Ridge regularization parameter\n",
    "}\n",
    "\n",
    "# GridSearchCV\n",
    "grid_search = GridSearchCV(pipe2, param_grid, scoring='neg_mean_squared_error', cv=5)\n",
    "grid_search.fit(X_train, y_train)\n",
    "\n",
    "# Evaluate the best model\n",
    "best_model = grid_search.best_estimator_\n",
    "\n",
    "# Predictions\n",
    "train_preds = best_model.predict(X_train)\n",
    "test_preds = best_model.predict(X_test)\n",
    "\n",
    "# Calculate MSE for both train and test predictions\n",
    "train_mse = mean_squared_error(y_train, train_preds)\n",
    "test_mse = mean_squared_error(y_test, test_preds)\n",
    "\n",
    "# Output results\n",
    "print(f\"Best parameters: {grid_search.best_params_}\")\n",
    "print(f\"Train MSE: {train_mse}\")\n",
    "print(f\"Test MSE: {test_mse}\")\n"
   ]
  },
  {
   "cell_type": "code",
   "execution_count": 87,
   "metadata": {},
   "outputs": [
    {
     "name": "stdout",
     "output_type": "stream",
     "text": [
      "\n",
      "Feature Coefficients:\n",
      "age: -1.8994527807972554\n",
      "log_odometer: -0.38858385672712953\n",
      "age^2: 1.1364151137538203\n",
      "age log_odometer: 1.8839836003214696\n",
      "log_odometer^2: 0.21226488021770237\n",
      "age^3: 4.297432271617688\n",
      "age^2 log_odometer: -3.914077387110437\n",
      "age log_odometer^2: 2.1035445458364967\n",
      "log_odometer^3: 3.092718599030697\n",
      "age^4: -7.860248113237598\n",
      "age^3 log_odometer: 9.350316891300324\n",
      "age^2 log_odometer^2: -9.54268521640144\n",
      "age log_odometer^3: -0.2904623849996838\n",
      "log_odometer^4: -2.38629944027371\n",
      "age^5: 4.508179151501234\n",
      "age^4 log_odometer: -6.888553941886881\n",
      "age^3 log_odometer^2: 1.2023642860208221\n",
      "age^2 log_odometer^3: 8.296049011280504\n",
      "age log_odometer^4: -0.7647372018827472\n",
      "log_odometer^5: -4.949522209988625\n",
      "age^6: -0.6535312005791186\n",
      "age^5 log_odometer: 0.6736256698356389\n",
      "age^4 log_odometer^2: 4.130256178089737\n",
      "age^3 log_odometer^3: -6.457312885998697\n",
      "age^2 log_odometer^4: 2.173403306145584\n",
      "age log_odometer^5: -2.001488908118282\n",
      "log_odometer^6: 4.427224881432693\n",
      "cyl_category_High: -1.1700882319318338\n",
      "cyl_category_Mode1: 0.1393020305242512\n",
      "cyl_category_Mode2: 0.4081664458324595\n",
      "cyl_category_Mode3: 0.6226197466350284\n",
      "fuel_diesel: 0.3526268813646993\n",
      "fuel_electric: 0.08824697520815288\n",
      "fuel_gas: -0.23079518113753536\n",
      "fuel_hybrid: -0.12259088269731355\n",
      "fuel_other: -0.08748779866112857\n",
      "transmission_automatic: -0.013192017308181486\n",
      "transmission_manual: 0.08515219196887353\n",
      "transmission_other: -0.07196018418519794\n",
      "type_SUV: -0.004489301745988784\n",
      "type_bus: 0.1808532488288177\n",
      "type_convertible: 0.2760483378261104\n",
      "type_coupe: 0.02278044384761825\n",
      "type_hatchback: -0.2659419851655571\n",
      "type_mini-van: -0.38792361336875325\n",
      "type_offroad: 0.391279352655097\n",
      "type_other: 0.26171089016108223\n",
      "type_pickup: 0.1881484161328066\n",
      "type_sedan: -0.30767769241190224\n",
      "type_truck: 0.21927532658243196\n",
      "type_van: -0.047317151678005466\n",
      "type_wagon: -0.5267462662964578\n",
      "condition: 0.030704380003588456\n"
     ]
    }
   ],
   "source": [
    "# Extract the Ridge model from the best pipeline\n",
    "ridge_model = best_model.named_steps['regressor']\n",
    "\n",
    "# Access the fitted preprocessor\n",
    "fitted_preprocessor = best_model.named_steps['preprocessor']\n",
    "\n",
    "# Get numerical feature names from PolynomialFeatures\n",
    "num_features = fitted_preprocessor.transformers_[0][1].named_steps['poly'].get_feature_names_out(num_attribs)\n",
    "\n",
    "# Get categorical feature names from OneHotEncoder\n",
    "cat_features = fitted_preprocessor.transformers_[1][1].get_feature_names_out(ohe_attribs)\n",
    "\n",
    "# Combine all feature names\n",
    "ordinal_features = ['condition']  # Ordinal features are unchanged\n",
    "all_feature_names = list(num_features) + list(cat_features) + ordinal_features\n",
    "\n",
    "# Extract coefficients\n",
    "coefficients = ridge_model.coef_\n",
    "\n",
    "# Create a dictionary mapping features to coefficients\n",
    "coeff_dict = dict(zip(all_feature_names, coefficients))\n",
    "\n",
    "# Output coefficients with feature names\n",
    "print(\"\\nFeature Coefficients:\")\n",
    "for feature, coef in coeff_dict.items():\n",
    "    print(f\"{feature}: {coef}\")\n"
   ]
  },
  {
   "cell_type": "markdown",
   "metadata": {},
   "source": [
    "## Visualize the most important features to predicting car price"
   ]
  },
  {
   "cell_type": "code",
   "execution_count": 89,
   "metadata": {},
   "outputs": [
    {
     "name": "stdout",
     "output_type": "stream",
     "text": [
      "                 Feature  Coefficient  Absolute Coefficient\n",
      "11  age^2 log_odometer^2       -9.543                 9.543\n",
      "10    age^3 log_odometer        9.350                 9.350\n",
      "17  age^2 log_odometer^3        8.296                 8.296\n",
      "9                  age^4       -7.860                 7.860\n",
      "15    age^4 log_odometer       -6.889                 6.889\n",
      "23  age^3 log_odometer^3       -6.457                 6.457\n",
      "19        log_odometer^5       -4.950                 4.950\n",
      "14                 age^5        4.508                 4.508\n",
      "26        log_odometer^6        4.427                 4.427\n",
      "5                  age^3        4.297                 4.297\n"
     ]
    }
   ],
   "source": [
    "import pandas as pd\n",
    "import matplotlib.pyplot as plt\n",
    "\n",
    "feature_names = [\n",
    "    \"age\", \"log_odometer\", \"age^2\", \"age log_odometer\", \"log_odometer^2\",\n",
    "    \"age^3\", \"age^2 log_odometer\", \"age log_odometer^2\", \"log_odometer^3\",\n",
    "    \"age^4\", \"age^3 log_odometer\", \"age^2 log_odometer^2\", \"age log_odometer^3\", \n",
    "    \"log_odometer^4\", \"age^5\", \"age^4 log_odometer\", \"age^3 log_odometer^2\",\n",
    "    \"age^2 log_odometer^3\", \"age log_odometer^4\", \"log_odometer^5\", \"age^6\",\n",
    "    \"age^5 log_odometer\", \"age^4 log_odometer^2\", \"age^3 log_odometer^3\",\n",
    "    \"age^2 log_odometer^4\", \"age log_odometer^5\", \"log_odometer^6\",\n",
    "    \"cyl_category_High\", \"cyl_category_Mode1\", \"cyl_category_Mode2\", \n",
    "    \"cyl_category_Mode3\", \"fuel_diesel\", \"fuel_electric\", \"fuel_gas\", \n",
    "    \"fuel_hybrid\", \"fuel_other\", \"transmission_automatic\", \"transmission_manual\",\n",
    "    \"transmission_other\", \"type_SUV\", \"type_bus\", \"type_convertible\", \n",
    "    \"type_coupe\", \"type_hatchback\", \"type_mini-van\", \"type_offroad\",\n",
    "    \"type_other\", \"type_pickup\", \"type_sedan\", \"type_truck\", \"type_van\", \n",
    "    \"type_wagon\", \"condition\"\n",
    "]\n",
    "\n",
    "coefficients = [\n",
    "    -1.899, -0.389, 1.136, 1.884, 0.212, 4.297, -3.914, 2.104, 3.093, -7.860, \n",
    "    9.350, -9.543, -0.290, -2.386, 4.508, -6.889, 1.202, 8.296, -0.765, -4.950, \n",
    "    -0.654, 0.674, 4.130, -6.457, 2.173, -2.001, 4.427, -1.170, 0.139, 0.408, \n",
    "    0.623, 0.353, 0.088, -0.231, -0.123, -0.087, -0.013, 0.085, -0.072, -0.004, \n",
    "    0.181, 0.276, 0.023, -0.266, -0.388, 0.391, 0.262, 0.188, -0.308, 0.219, \n",
    "    -0.047, -0.527, 0.031\n",
    "]\n",
    "\n",
    "# Create a DataFrame\n",
    "feature_importance = pd.DataFrame({\n",
    "    \"Feature\": feature_names,\n",
    "    \"Coefficient\": coefficients,\n",
    "    \"Absolute Coefficient\": [abs(c) for c in coefficients]\n",
    "})\n",
    "\n",
    "# Sort by absolute coefficient\n",
    "feature_importance = feature_importance.sort_values(by=\"Absolute Coefficient\", ascending=False)\n",
    "\n",
    "# Display top 10 features\n",
    "print(feature_importance.head(10))\n"
   ]
  },
  {
   "cell_type": "code",
   "execution_count": 91,
   "metadata": {},
   "outputs": [
    {
     "data": {
      "image/png": "[encoded data removed]",
      "text/plain": [
       "<Figure size 1000x600 with 1 Axes>"
      ]
     },
     "metadata": {},
     "output_type": "display_data"
    }
   ],
   "source": [
    "# Plot top 10 features\n",
    "top_features = feature_importance.head(10)\n",
    "\n",
    "plt.figure(figsize=(10, 6))\n",
    "plt.barh(top_features[\"Feature\"], top_features[\"Absolute Coefficient\"], color=\"steelblue\")\n",
    "plt.xlabel(\"Absolute Coefficient\")\n",
    "plt.ylabel(\"Feature\")\n",
    "plt.title(\"Top 10 Most Important Features Based on Coefficients\")\n",
    "plt.gca().invert_yaxis()  # Invert y-axis for better readability\n",
    "plt.show()\n",
    "\n"
   ]
  },
  {
   "cell_type": "code",
   "execution_count": null,
   "metadata": {},
   "outputs": [],
   "source": []
  }
 ],
 "metadata": {
  "kernelspec": {
   "display_name": "Homl3",
   "language": "python",
   "name": "homl3"
  },
  "language_info": {
   "codemirror_mode": {
    "name": "ipython",
    "version": 3
   },
   "file_extension": ".py",
   "mimetype": "text/x-python",
   "name": "python",
   "nbconvert_exporter": "python",
   "pygments_lexer": "ipython3",
   "version": "3.12.2"
  },
  "nav_menu": {
   "height": "279px",
   "width": "309px"
  },
  "toc": {
   "nav_menu": {},
   "number_sections": true,
   "sideBar": true,
   "skip_h1_title": false,
   "toc_cell": false,
   "toc_position": {},
   "toc_section_display": "block",
   "toc_window_display": false
  }
 },
 "nbformat": 4,
 "nbformat_minor": 4
}
